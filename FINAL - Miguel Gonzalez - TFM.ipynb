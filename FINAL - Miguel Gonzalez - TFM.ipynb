{
 "cells": [
  {
   "cell_type": "markdown",
   "id": "52dd5b65-6ab0-4e7b-a66e-d20b1ee05fda",
   "metadata": {
    "jp-MarkdownHeadingCollapsed": true
   },
   "source": [
    "# Welcome to the Movie Recommendation System! 🎬🍿\n",
    "Welcome to the Movie Recommendation System project implemented in JupyterLab Notebook. Are you tired of endlessly scrolling through movie options and not finding the perfect one? Look no further! Our recommendation system is here to help you discover your next favorite movie. 🎉\n",
    "\n",
    "### Introduction\n",
    "Lights, camera, action! Our movie recommendation system is designed to provide personalized movie suggestions based on your preferences and movie ratings. We utilize advanced techniques such as content-based filtering, collaborative filtering, and hybrid filtering to offer you the best recommendations tailored just for you. Whether you're a fan of action-packed blockbusters or indie dramas, our system will find the perfect movie to match your taste.\n",
    "\n",
    "### How It Works\n",
    "Our recommendation system takes into account various factors to ensure accurate and relevant recommendations. We analyze movie genres, cast and crew information, user ratings, and popularity to generate a list of movies that align with your preferences. By considering these key elements, we can provide you with a curated selection of movies that you're likely to enjoy.\n",
    "\n",
    "### Exploratory Data Analysis\n",
    "Before diving into the recommendations, let's take a quick look at the data. We provide interactive visualizations and insights on movie releases, ratings, budgets, and revenues. You can explore the distribution of movie releases over the years, discover the most popular genres, and gain a deeper understanding of the movie industry's trends.\n",
    "\n",
    "### Content-Based Filtering\n",
    "Our content-based filtering technique analyzes the content of movies to recommend similar ones. We examine movie genres, cast, crew, and keywords to calculate the similarity between movies. This enables us to suggest movies that share similar characteristics and themes. Whether you're looking for movies directed by a specific filmmaker or featuring your favorite actor, our content-based filtering has got you covered.\n",
    "\n",
    "### Collaborative Filtering\n",
    "Collaborative filtering takes a different approach by considering the preferences and ratings of other users. We analyze the ratings dataset to create a ranking model that learns from user behaviors and predicts movie ratings. By leveraging the wisdom of the crowd, we can offer recommendations based on the preferences of users with similar tastes. You'll discover hidden gems and popular movies that align with your interests.\n",
    "\n",
    "### Hybrid Filtering\n",
    "To provide you with even more accurate and diverse recommendations, we combine the power of content-based and collaborative filtering techniques. Our hybrid filtering approach blends the insights from both methods, resulting in a comprehensive and personalized recommendation list. By leveraging the strengths of each technique, we ensure that your movie recommendations are finely tuned to your unique preferences.\n",
    "\n",
    "### Movie Recommendations\n",
    "Now comes the fun part! You can input a movie title, and our system will generate a list of recommended movies for you to explore. Whether you want to find movies similar to \"The Dark Knight\" or discover hidden gems like \"Guardians of the Galaxy,\" our system will present you with a carefully curated selection. Get ready to embark on a movie-watching journey filled with excitement, laughter, and unforgettable stories.\n",
    "\n",
    "### Conclusion\n",
    "Our Movie Recommendation System is your ultimate companion for finding the perfect movies to enjoy. Whether you're a movie enthusiast, a casual viewer, or just looking to discover something new, our system is here to enhance your movie-watching experience. Say goodbye to endless scrolling and let our system bring the magic of cinema to your screen. \n",
    "\n",
    "Lights off, movie on! 🌟🎥🍿"
   ]
  },
  {
   "cell_type": "markdown",
   "id": "1ad0d607-7b81-41fb-9ff9-da2fe616d176",
   "metadata": {},
   "source": [
    "# Import the required Python libraries 🐍 "
   ]
  },
  {
   "cell_type": "markdown",
   "id": "ac3e1324-e16a-443e-a5ba-4426751256fa",
   "metadata": {},
   "source": [
    "Description of the purpose of each import:\n",
    "- **ast**: Helps to convert strings that contain Python code into objects that Python can understand and manipulate.\n",
    "- **json**: Allows the program to work with JSON data. JSON is a common data format with a diverse range of applications in data interchange and structured storage.\n",
    "- **re**: Provides functionalities to work with regular expressions, which are special text strings for describing a search pattern.\n",
    "- **string**: Used for various string manipulation operations.\n",
    "- **datetime**: Used for working with dates and times.\n",
    "- **typing (Dict, Text)**: Allows for more precise specification of function parameters and return types, improving code readability and making it easier to maintain.\n",
    "- **matplotlib.pyplot**: A plotting library used to create figures and graphs.\n",
    "- **nltk**: Natural Language Toolkit, used for working with human language data.\n",
    "- **numpy**: A library for the Python programming language, adding support for large, multi-dimensional arrays and matrices, along with a large collection of high-level mathematical functions to operate on these arrays.\n",
    "- **pandas**: A library providing high-performance, easy-to-use data structures and data analysis tools.\n",
    "- **seaborn**: A Python data visualization library based on matplotlib. It provides a high-level interface for drawing attractive and informative statistical graphics.\n",
    "- **tensorflow**: A library used to design, build, and train deep learning models.\n",
    "- **tensorflow_recommenders**: TensorFlow Recommenders is a library for building recommendation models that is built on top of TensorFlow.\n",
    "- **annoy (AnnoyIndex)**: A library to support fast queries of nearest neighbors, used here to find movies similar to a given one.\n",
    "- **ast (literal_eval)**: A function that safely parses and evaluates an expression node or a string containing a Python expression. It's safer than using eval() as it does not evaluate potentially harmful code. Used here to convert string representations of Python objects back into actual objects.\n",
    "- **nltk.corpus (stopwords)**: A list of common words ('the', 'is', 'and', etc.) that are often removed from text data when processing natural language.\n",
    "- **nltk.stem (SnowballStemmer)**: A tool for reducing related words in English (or other languages) to their root form.\n",
    "- **sklearn.feature_extraction.text (CountVectorizer, TfidfVectorizer)**: Tools for converting text data into numerical vectors that machine learning models can work with.\n",
    "- **sklearn.metrics.pairwise (cosine_similarity, linear_kernel)**: Functions to calculate similarity or distance between data points.\n",
    "- **sklearn.model_selection (train_test_split)**: A function for easily splitting datasets into training and testing sets.\n",
    "- **sklearn.preprocessing (MinMaxScaler)**: A tool for changing the range of values of data, often used to normalize the input to machine learning models.\n",
    "- **tensorflow.keras.layers (Concatenate, Dense, Dot, Embedding, Flatten, Input)**: Various types of layers that can be included in a neural network.\n",
    "- **tensorflow.keras.models (Model)**: The base class for defining a machine learning model in Keras.\n",
    "- **unidecode**: A library that helps convert Unicode text into a form that can be used in ASCII strings. Useful for removing accents and other diacritics."
   ]
  },
  {
   "cell_type": "code",
   "execution_count": 1,
   "id": "0ab2ac39-7c8e-4ee0-855e-bae488a145e0",
   "metadata": {},
   "outputs": [],
   "source": [
    "import ast\n",
    "import json\n",
    "import re\n",
    "import string\n",
    "from datetime import datetime\n",
    "from typing import Dict, Text\n",
    "\n",
    "import matplotlib.pyplot as plt\n",
    "import nltk\n",
    "import numpy as np\n",
    "import pandas as pd\n",
    "import seaborn as sns\n",
    "import tensorflow as tf\n",
    "import tensorflow_recommenders as tfrs\n",
    "from annoy import AnnoyIndex\n",
    "from ast import literal_eval\n",
    "from nltk.corpus import stopwords\n",
    "from nltk.stem.snowball import SnowballStemmer\n",
    "from sklearn.feature_extraction.text import CountVectorizer, TfidfVectorizer\n",
    "from sklearn.metrics.pairwise import cosine_similarity, linear_kernel\n",
    "from sklearn.model_selection import train_test_split\n",
    "from sklearn.preprocessing import MinMaxScaler\n",
    "from tensorflow.keras import layers\n",
    "from tensorflow.keras.layers import Concatenate, Dense, Dot, Embedding, Flatten, Input\n",
    "from tensorflow.keras.models import Model\n",
    "from unidecode import unidecode"
   ]
  },
  {
   "cell_type": "markdown",
   "id": "c869279d-e970-4e79-b7d7-8747c0f61439",
   "metadata": {},
   "source": [
    "## Movie Data Cleaning, Processing, and Visualization\n",
    "Throughout this script, we will be performing a series of operations to **clean, process, and visualize the movie data** we have collected. The purpose of this process is to prepare the data for further analysis and to gain an understanding of the data at the same time.\n",
    "\n",
    "#### Data Loading\n",
    "Our first step is to load several datasets related to **movies, credits, keywords, ratings, and links**. These datasets contain a wide range of information about movies, such as their genres, production details, and user ratings.\n",
    "\n",
    "#### Data Merging\n",
    "We will then **reduce the number of unnecessary columns** in the movies dataset and **amalgamate it with the rest of the datasets**. By doing this, we are able to generate a DataFrame that contains all relevant information about each movie in a single place.\n",
    "\n",
    "#### Handling Missing Values\n",
    "The next step is to handle missing values. We will **fill the missing values with appropriate default values** (for example, an empty string for missing text data or zero for missing numerical data) and **remove the rows with missing values** as a result.\n",
    "\n",
    "#### Data Transformation\n",
    "After that, we are able to **transform some of the columns**, which are in dictionary format, to some simpler, more useful formats. We can extract specific keys from these dictionaries, such as the key of 'name' or 'character', and store them in the DataFrame as new columns, for example. \n",
    "\n",
    "#### Removing Duplicates\n",
    "Once we have cleaned and processed the data, we will **drop duplicate rows** based on the 'original_title' column of the DataFrame and **reset the DataFrame index**.\n",
    "\n",
    "#### Data Visualization\n",
    "As a final step, we will perform a few initial visualizations of our data to gain a better understanding of how our data is distributed. \n",
    "- We **plot histograms** for movie releases by year and ratings per release. \n",
    "- We **create a scatterplot** to examine the relationship between the budget, revenue, and popularity of a movie. \n",
    "- We **plot a bar graph** showing the top 10 movie genres. \n",
    "- We also use a **heatmap** to visually represent the correlation between different movie numerical features. \n",
    "\n",
    "These visualizations provide us with a high-level understanding of the data, such as the most popular genres, the trend of movie releases over the years, as well as the relationship between the different features of the movies that make them interesting. This information will be crucial as we move forward, allowing us to build predictive models and further refine our analysis. "
   ]
  },
  {
   "cell_type": "markdown",
   "id": "886114e5-766e-4088-8e72-89bd581b041d",
   "metadata": {},
   "source": [
    "## Loading the Datasets\n",
    "Using this code, we read individual CSV files that contain movie-related data into different pandas DataFrames.\n",
    "- The **dtype={'column_name': str}** argument is used to specify the data type for a particular column in the 'movies.csv' file.\n",
    "- The **low_memory=False** argument is used to reduce memory usage while reading the file.\n",
    "- The **nrows=29000** argument in the pd.read_csv() function for the 'links.csv' file specifies that only the first 29000 rows of the file should be read."
   ]
  },
  {
   "cell_type": "code",
   "execution_count": 2,
   "id": "2dc4ef3e-5a07-474e-9882-ca58dfb0ec70",
   "metadata": {},
   "outputs": [],
   "source": [
    "movies = pd.read_csv('data/movies.csv', dtype={'column_name': str}, low_memory=False)\n",
    "credits = pd.read_csv('data/credits.csv')\n",
    "keywords = pd.read_csv('data/keywords.csv')\n",
    "ratings = pd.read_csv('data/ratings.csv')\n",
    "links = pd.read_csv('data/links.csv', nrows=29000)"
   ]
  },
  {
   "cell_type": "markdown",
   "id": "520b4e4f-d760-490d-bbc2-20a29e875ddf",
   "metadata": {},
   "source": [
    "## Preprocessing the 'movies' DataFrame\n",
    "The purpose of this line of code is to eliminate unnecessary columns from the DataFrame named 'movies' in order to simplify the analysis. The **drop()** function is used to remove certain labels from rows or columns according to the label specified. **axis=1** indicates that first column should be dropped. The data types of rows with incorrect data are also dropped from the table. The 'id' column is converted to an integer data type (**int64**), which is necessary for later merging operations."
   ]
  },
  {
   "cell_type": "code",
   "execution_count": 3,
   "id": "2430c4f8-8d57-4b52-891d-83a49f3c5a9f",
   "metadata": {},
   "outputs": [],
   "source": [
    "# Drop unnecessary columns\n",
    "movies = movies.drop(['belongs_to_collection', 'homepage', 'imdb_id', 'poster_path', 'status', 'title', 'video'], axis=1)\n",
    "movies = movies.drop([19730, 29503, 35587]) # Incorrect data type"
   ]
  },
  {
   "cell_type": "code",
   "execution_count": 4,
   "id": "68fb1826-9dfa-4235-bea9-a451a925aece",
   "metadata": {},
   "outputs": [],
   "source": [
    "# Convert 'id' column to int64\n",
    "movies['id'] = movies['id'].astype('int64')"
   ]
  },
  {
   "cell_type": "markdown",
   "id": "d2015443-d1dc-43a4-9eed-c5e2bbaca83b",
   "metadata": {},
   "source": [
    "## Merging the Datasets\n",
    "Here, the **movies**, **keywords**, and **credits** DataFrames are merged into one DataFrame (**df**) based on the **id** column."
   ]
  },
  {
   "cell_type": "code",
   "execution_count": 5,
   "id": "a51620e9-4d15-4fbb-987a-7d3a65bd94bd",
   "metadata": {},
   "outputs": [],
   "source": [
    "# Merge the datasets\n",
    "df = movies.merge(keywords, on='id').merge(credits, on='id')"
   ]
  },
  {
   "cell_type": "markdown",
   "id": "89274506-d1c2-48f2-b6db-a525ae533ffa",
   "metadata": {},
   "source": [
    "## Handling Missing Values\n",
    "Missing values in the **original_language**, **runtime**, and **tagline** columns are filled with appropriate default values using the **fillna() function**. Then, rows with any remaining missing values are dropped from the DataFrame using the **dropna() function**."
   ]
  },
  {
   "cell_type": "code",
   "execution_count": 6,
   "id": "d4372d30-bfe6-43ab-9aec-11fe1c5f207c",
   "metadata": {},
   "outputs": [],
   "source": [
    "# Fill missing values\n",
    "df['original_language'] = df['original_language'].fillna('')\n",
    "df['runtime'] = df['runtime'].fillna(0)\n",
    "df['tagline'] = df['tagline'].fillna('')\n",
    "\n",
    "# Drop rows with missing values\n",
    "df.dropna(inplace=True)"
   ]
  },
  {
   "cell_type": "markdown",
   "id": "8e7c4804-401c-44a0-b4bd-82a2122681d2",
   "metadata": {},
   "source": [
    "## Extracting Information from Dictionaries\n",
    "The function below define a helper function that extracts specific keys from a dictionary in a list of dictionaries by means of a helper function. This function is then applied to several columns in the DataFrame to extract relevant information. The **apply()** function applies a function along an axis of the DataFrame."
   ]
  },
  {
   "cell_type": "code",
   "execution_count": 7,
   "id": "af7264aa-e70c-4fb0-b423-ea0ed15133a2",
   "metadata": {},
   "outputs": [],
   "source": [
    "def get_text_from_dict(text_dict, key='name'):\n",
    "    \"\"\"\n",
    "    This function takes a string representation of a list of dictionaries and a key name.\n",
    "    It then converts the string to a list of dictionaries and extracts the values of the specified key.\n",
    "    If only one dictionary is present in the list, it returns the value of the specified key from the dictionary.\n",
    "    If multiple dictionaries are present, it joins the values of the specified key from all dictionaries into a comma-separated string.\n",
    "    \"\"\"\n",
    "    text_list = literal_eval(text_dict)\n",
    "\n",
    "    if len(text_list) == 1:\n",
    "        return text_list[0].get(key, '')\n",
    "    else:\n",
    "        return ', '.join([item.get(key, '') for item in text_list])"
   ]
  },
  {
   "cell_type": "code",
   "execution_count": 8,
   "id": "961da81c-f61c-4478-bf56-542d3a8db627",
   "metadata": {},
   "outputs": [],
   "source": [
    "# Apply the get_text_from_dict function to extract specific keys from columns\n",
    "df['genres'] = df['genres'].apply(get_text_from_dict, key='name')\n",
    "df['production_companies'] = df['production_companies'].apply(get_text_from_dict, key='name')\n",
    "df['production_countries'] = df['production_countries'].apply(get_text_from_dict, key='name')\n",
    "df['crew'] = df['crew'].apply(get_text_from_dict, key='name')\n",
    "df['spoken_languages'] = df['spoken_languages'].apply(get_text_from_dict, key='name')\n",
    "df['keywords'] = df['keywords'].apply(get_text_from_dict, key='name')"
   ]
  },
  {
   "cell_type": "markdown",
   "id": "30aee54d-5ec3-4034-b2b1-60bf17349fd1",
   "metadata": {},
   "source": [
    "## Creating New Columns\n",
    "The idea is to create two new columns in the DataFrame: **characters** and **actors**. The **characters** column contains the names of the characters in each movie, and the **actors** column contains the names of the actors who played those characters."
   ]
  },
  {
   "cell_type": "code",
   "execution_count": 9,
   "id": "687b3ede-293e-487a-a9bb-4cf9e74165a6",
   "metadata": {},
   "outputs": [],
   "source": [
    "# Create new columns\n",
    "df['characters'] = df['cast'].apply(get_text_from_dict, key='character')\n",
    "df['actors'] = df['cast'].apply(get_text_from_dict, key='name')"
   ]
  },
  {
   "cell_type": "markdown",
   "id": "9d579a9b-ade2-4541-9028-a7ac013ae319",
   "metadata": {},
   "source": [
    "## Removing Unnecessary Columns and Duplicate Rows\n",
    "The **cast** column is dropped from the DataFrame because it is no longer needed after the **characters** and **actors** columns have been created. Duplicate rows based on the **original_title** column are removed from the DataFrame."
   ]
  },
  {
   "cell_type": "code",
   "execution_count": 10,
   "id": "1ada8acb-781d-4339-a524-edb5c99c2161",
   "metadata": {},
   "outputs": [],
   "source": [
    "# Drop unnecessary columns\n",
    "df.drop('cast', axis=1, inplace=True)\n",
    "\n",
    "# Remove duplicate rows based on 'original_title'\n",
    "df = df[~df['original_title'].duplicated()]"
   ]
  },
  {
   "cell_type": "markdown",
   "id": "f337aed3-5da9-4468-82f0-88a0eba0b4c4",
   "metadata": {},
   "source": [
    "## Resetting the Index\n",
    "The index of the DataFrame is reset using the **reset_index() function**. The **drop=True** argument is used to avoid the old index being added as a column."
   ]
  },
  {
   "cell_type": "code",
   "execution_count": 11,
   "id": "4e3f0233-9b1e-4139-b4e8-e9109b971dd6",
   "metadata": {},
   "outputs": [],
   "source": [
    "# Reset the index\n",
    "df = df.reset_index(drop=True)"
   ]
  },
  {
   "cell_type": "markdown",
   "id": "d226bfe8-0e73-46b9-a7ec-b0b70a78eca0",
   "metadata": {},
   "source": [
    "## Displaying the DataFrame Information and First Few Rows\n",
    "Finally, the **info()** function is used to print information about the DataFrame, including the number of entries, the number of non-null entries for each column, and the data type of each column. The **head()** function is used to display the first few rows of the DataFrame."
   ]
  },
  {
   "cell_type": "code",
   "execution_count": 12,
   "id": "e9fef5c0-3153-4d82-8e96-6f36254967ff",
   "metadata": {},
   "outputs": [
    {
     "name": "stdout",
     "output_type": "stream",
     "text": [
      "<class 'pandas.core.frame.DataFrame'>\n",
      "RangeIndex: 42373 entries, 0 to 42372\n",
      "Data columns (total 21 columns):\n",
      " #   Column                Non-Null Count  Dtype  \n",
      "---  ------                --------------  -----  \n",
      " 0   adult                 42373 non-null  object \n",
      " 1   budget                42373 non-null  object \n",
      " 2   genres                42373 non-null  object \n",
      " 3   id                    42373 non-null  int64  \n",
      " 4   original_language     42373 non-null  object \n",
      " 5   original_title        42373 non-null  object \n",
      " 6   overview              42373 non-null  object \n",
      " 7   popularity            42373 non-null  object \n",
      " 8   production_companies  42373 non-null  object \n",
      " 9   production_countries  42373 non-null  object \n",
      " 10  release_date          42373 non-null  object \n",
      " 11  revenue               42373 non-null  float64\n",
      " 12  runtime               42373 non-null  float64\n",
      " 13  spoken_languages      42373 non-null  object \n",
      " 14  tagline               42373 non-null  object \n",
      " 15  vote_average          42373 non-null  float64\n",
      " 16  vote_count            42373 non-null  float64\n",
      " 17  keywords              42373 non-null  object \n",
      " 18  crew                  42373 non-null  object \n",
      " 19  characters            42373 non-null  object \n",
      " 20  actors                42373 non-null  object \n",
      "dtypes: float64(4), int64(1), object(16)\n",
      "memory usage: 6.8+ MB\n"
     ]
    }
   ],
   "source": [
    "# Show dataset info\n",
    "df.info()"
   ]
  },
  {
   "cell_type": "code",
   "execution_count": 13,
   "id": "a2ce83b6-7365-42e9-8963-e75a443d9695",
   "metadata": {},
   "outputs": [
    {
     "data": {
      "text/html": [
       "<div>\n",
       "<style scoped>\n",
       "    .dataframe tbody tr th:only-of-type {\n",
       "        vertical-align: middle;\n",
       "    }\n",
       "\n",
       "    .dataframe tbody tr th {\n",
       "        vertical-align: top;\n",
       "    }\n",
       "\n",
       "    .dataframe thead th {\n",
       "        text-align: right;\n",
       "    }\n",
       "</style>\n",
       "<table border=\"1\" class=\"dataframe\">\n",
       "  <thead>\n",
       "    <tr style=\"text-align: right;\">\n",
       "      <th></th>\n",
       "      <th>adult</th>\n",
       "      <th>budget</th>\n",
       "      <th>genres</th>\n",
       "      <th>id</th>\n",
       "      <th>original_language</th>\n",
       "      <th>original_title</th>\n",
       "      <th>overview</th>\n",
       "      <th>popularity</th>\n",
       "      <th>production_companies</th>\n",
       "      <th>production_countries</th>\n",
       "      <th>...</th>\n",
       "      <th>revenue</th>\n",
       "      <th>runtime</th>\n",
       "      <th>spoken_languages</th>\n",
       "      <th>tagline</th>\n",
       "      <th>vote_average</th>\n",
       "      <th>vote_count</th>\n",
       "      <th>keywords</th>\n",
       "      <th>crew</th>\n",
       "      <th>characters</th>\n",
       "      <th>actors</th>\n",
       "    </tr>\n",
       "  </thead>\n",
       "  <tbody>\n",
       "    <tr>\n",
       "      <th>0</th>\n",
       "      <td>False</td>\n",
       "      <td>30000000</td>\n",
       "      <td>Animation, Comedy, Family</td>\n",
       "      <td>862</td>\n",
       "      <td>en</td>\n",
       "      <td>Toy Story</td>\n",
       "      <td>Led by Woody, Andy's toys live happily in his ...</td>\n",
       "      <td>21.946943</td>\n",
       "      <td>Pixar Animation Studios</td>\n",
       "      <td>United States of America</td>\n",
       "      <td>...</td>\n",
       "      <td>373554033.0</td>\n",
       "      <td>81.0</td>\n",
       "      <td>English</td>\n",
       "      <td></td>\n",
       "      <td>7.7</td>\n",
       "      <td>5415.0</td>\n",
       "      <td>jealousy, toy, boy, friendship, friends, rival...</td>\n",
       "      <td>John Lasseter, Joss Whedon, Andrew Stanton, Jo...</td>\n",
       "      <td>Woody (voice), Buzz Lightyear (voice), Mr. Pot...</td>\n",
       "      <td>Tom Hanks, Tim Allen, Don Rickles, Jim Varney,...</td>\n",
       "    </tr>\n",
       "    <tr>\n",
       "      <th>1</th>\n",
       "      <td>False</td>\n",
       "      <td>65000000</td>\n",
       "      <td>Adventure, Fantasy, Family</td>\n",
       "      <td>8844</td>\n",
       "      <td>en</td>\n",
       "      <td>Jumanji</td>\n",
       "      <td>When siblings Judy and Peter discover an encha...</td>\n",
       "      <td>17.015539</td>\n",
       "      <td>TriStar Pictures, Teitler Film, Interscope Com...</td>\n",
       "      <td>United States of America</td>\n",
       "      <td>...</td>\n",
       "      <td>262797249.0</td>\n",
       "      <td>104.0</td>\n",
       "      <td>English, Français</td>\n",
       "      <td>Roll the dice and unleash the excitement!</td>\n",
       "      <td>6.9</td>\n",
       "      <td>2413.0</td>\n",
       "      <td>board game, disappearance, based on children's...</td>\n",
       "      <td>Larry J. Franco, Jonathan Hensleigh, James Hor...</td>\n",
       "      <td>Alan Parrish, Samuel Alan Parrish / Van Pelt, ...</td>\n",
       "      <td>Robin Williams, Jonathan Hyde, Kirsten Dunst, ...</td>\n",
       "    </tr>\n",
       "    <tr>\n",
       "      <th>2</th>\n",
       "      <td>False</td>\n",
       "      <td>0</td>\n",
       "      <td>Romance, Comedy</td>\n",
       "      <td>15602</td>\n",
       "      <td>en</td>\n",
       "      <td>Grumpier Old Men</td>\n",
       "      <td>A family wedding reignites the ancient feud be...</td>\n",
       "      <td>11.7129</td>\n",
       "      <td>Warner Bros., Lancaster Gate</td>\n",
       "      <td>United States of America</td>\n",
       "      <td>...</td>\n",
       "      <td>0.0</td>\n",
       "      <td>101.0</td>\n",
       "      <td>English</td>\n",
       "      <td>Still Yelling. Still Fighting. Still Ready for...</td>\n",
       "      <td>6.5</td>\n",
       "      <td>92.0</td>\n",
       "      <td>fishing, best friend, duringcreditsstinger, ol...</td>\n",
       "      <td>Howard Deutch, Mark Steven Johnson, Mark Steve...</td>\n",
       "      <td>Max Goldman, John Gustafson, Ariel Gustafson, ...</td>\n",
       "      <td>Walter Matthau, Jack Lemmon, Ann-Margret, Soph...</td>\n",
       "    </tr>\n",
       "    <tr>\n",
       "      <th>3</th>\n",
       "      <td>False</td>\n",
       "      <td>16000000</td>\n",
       "      <td>Comedy, Drama, Romance</td>\n",
       "      <td>31357</td>\n",
       "      <td>en</td>\n",
       "      <td>Waiting to Exhale</td>\n",
       "      <td>Cheated on, mistreated and stepped on, the wom...</td>\n",
       "      <td>3.859495</td>\n",
       "      <td>Twentieth Century Fox Film Corporation</td>\n",
       "      <td>United States of America</td>\n",
       "      <td>...</td>\n",
       "      <td>81452156.0</td>\n",
       "      <td>127.0</td>\n",
       "      <td>English</td>\n",
       "      <td>Friends are the people who let you be yourself...</td>\n",
       "      <td>6.1</td>\n",
       "      <td>34.0</td>\n",
       "      <td>based on novel, interracial relationship, sing...</td>\n",
       "      <td>Forest Whitaker, Ronald Bass, Ronald Bass, Ezr...</td>\n",
       "      <td>Savannah 'Vannah' Jackson, Bernadine 'Bernie' ...</td>\n",
       "      <td>Whitney Houston, Angela Bassett, Loretta Devin...</td>\n",
       "    </tr>\n",
       "    <tr>\n",
       "      <th>4</th>\n",
       "      <td>False</td>\n",
       "      <td>0</td>\n",
       "      <td>Comedy</td>\n",
       "      <td>11862</td>\n",
       "      <td>en</td>\n",
       "      <td>Father of the Bride Part II</td>\n",
       "      <td>Just when George Banks has recovered from his ...</td>\n",
       "      <td>8.387519</td>\n",
       "      <td>Sandollar Productions, Touchstone Pictures</td>\n",
       "      <td>United States of America</td>\n",
       "      <td>...</td>\n",
       "      <td>76578911.0</td>\n",
       "      <td>106.0</td>\n",
       "      <td>English</td>\n",
       "      <td>Just When His World Is Back To Normal... He's ...</td>\n",
       "      <td>5.7</td>\n",
       "      <td>173.0</td>\n",
       "      <td>baby, midlife crisis, confidence, aging, daugh...</td>\n",
       "      <td>Alan Silvestri, Elliot Davis, Nancy Meyers, Na...</td>\n",
       "      <td>George Banks, Nina Banks, Franck Eggelhoffer, ...</td>\n",
       "      <td>Steve Martin, Diane Keaton, Martin Short, Kimb...</td>\n",
       "    </tr>\n",
       "  </tbody>\n",
       "</table>\n",
       "<p>5 rows × 21 columns</p>\n",
       "</div>"
      ],
      "text/plain": [
       "   adult    budget                      genres     id original_language  \\\n",
       "0  False  30000000   Animation, Comedy, Family    862                en   \n",
       "1  False  65000000  Adventure, Fantasy, Family   8844                en   \n",
       "2  False         0             Romance, Comedy  15602                en   \n",
       "3  False  16000000      Comedy, Drama, Romance  31357                en   \n",
       "4  False         0                      Comedy  11862                en   \n",
       "\n",
       "                original_title  \\\n",
       "0                    Toy Story   \n",
       "1                      Jumanji   \n",
       "2             Grumpier Old Men   \n",
       "3            Waiting to Exhale   \n",
       "4  Father of the Bride Part II   \n",
       "\n",
       "                                            overview popularity  \\\n",
       "0  Led by Woody, Andy's toys live happily in his ...  21.946943   \n",
       "1  When siblings Judy and Peter discover an encha...  17.015539   \n",
       "2  A family wedding reignites the ancient feud be...    11.7129   \n",
       "3  Cheated on, mistreated and stepped on, the wom...   3.859495   \n",
       "4  Just when George Banks has recovered from his ...   8.387519   \n",
       "\n",
       "                                production_companies  \\\n",
       "0                            Pixar Animation Studios   \n",
       "1  TriStar Pictures, Teitler Film, Interscope Com...   \n",
       "2                       Warner Bros., Lancaster Gate   \n",
       "3             Twentieth Century Fox Film Corporation   \n",
       "4         Sandollar Productions, Touchstone Pictures   \n",
       "\n",
       "       production_countries  ...      revenue  runtime   spoken_languages  \\\n",
       "0  United States of America  ...  373554033.0     81.0            English   \n",
       "1  United States of America  ...  262797249.0    104.0  English, Français   \n",
       "2  United States of America  ...          0.0    101.0            English   \n",
       "3  United States of America  ...   81452156.0    127.0            English   \n",
       "4  United States of America  ...   76578911.0    106.0            English   \n",
       "\n",
       "                                             tagline vote_average  vote_count  \\\n",
       "0                                                             7.7      5415.0   \n",
       "1          Roll the dice and unleash the excitement!          6.9      2413.0   \n",
       "2  Still Yelling. Still Fighting. Still Ready for...          6.5        92.0   \n",
       "3  Friends are the people who let you be yourself...          6.1        34.0   \n",
       "4  Just When His World Is Back To Normal... He's ...          5.7       173.0   \n",
       "\n",
       "                                            keywords  \\\n",
       "0  jealousy, toy, boy, friendship, friends, rival...   \n",
       "1  board game, disappearance, based on children's...   \n",
       "2  fishing, best friend, duringcreditsstinger, ol...   \n",
       "3  based on novel, interracial relationship, sing...   \n",
       "4  baby, midlife crisis, confidence, aging, daugh...   \n",
       "\n",
       "                                                crew  \\\n",
       "0  John Lasseter, Joss Whedon, Andrew Stanton, Jo...   \n",
       "1  Larry J. Franco, Jonathan Hensleigh, James Hor...   \n",
       "2  Howard Deutch, Mark Steven Johnson, Mark Steve...   \n",
       "3  Forest Whitaker, Ronald Bass, Ronald Bass, Ezr...   \n",
       "4  Alan Silvestri, Elliot Davis, Nancy Meyers, Na...   \n",
       "\n",
       "                                          characters  \\\n",
       "0  Woody (voice), Buzz Lightyear (voice), Mr. Pot...   \n",
       "1  Alan Parrish, Samuel Alan Parrish / Van Pelt, ...   \n",
       "2  Max Goldman, John Gustafson, Ariel Gustafson, ...   \n",
       "3  Savannah 'Vannah' Jackson, Bernadine 'Bernie' ...   \n",
       "4  George Banks, Nina Banks, Franck Eggelhoffer, ...   \n",
       "\n",
       "                                              actors  \n",
       "0  Tom Hanks, Tim Allen, Don Rickles, Jim Varney,...  \n",
       "1  Robin Williams, Jonathan Hyde, Kirsten Dunst, ...  \n",
       "2  Walter Matthau, Jack Lemmon, Ann-Margret, Soph...  \n",
       "3  Whitney Houston, Angela Bassett, Loretta Devin...  \n",
       "4  Steve Martin, Diane Keaton, Martin Short, Kimb...  \n",
       "\n",
       "[5 rows x 21 columns]"
      ]
     },
     "execution_count": 13,
     "metadata": {},
     "output_type": "execute_result"
    }
   ],
   "source": [
    "# Show dataset head\n",
    "df.head()"
   ]
  },
  {
   "cell_type": "markdown",
   "id": "70787c69-8b6f-42d5-9e9b-8e62bc6bac67",
   "metadata": {},
   "source": [
    "# Data Visualization"
   ]
  },
  {
   "cell_type": "markdown",
   "id": "84e07f95-86e0-4967-b65d-db815e970b0e",
   "metadata": {},
   "source": [
    "## Release data\n",
    "The purpose of this block of code is to generate a histogram which provides an overview of the distribution of movie releases over the years. As can be seen in the histogram, the height of each bar represents the number of movies that were released in a particular year (determined by the 'bins' parameter), and the width represents the range of years represented in the histogram. There is also a KDE line that provides a smoothed representation of the histogram, so that a sense is given of the shape of the distribution."
   ]
  },
  {
   "cell_type": "code",
   "execution_count": 14,
   "id": "33fc7f1a-f2db-47d6-ae1a-432147ced6c2",
   "metadata": {},
   "outputs": [
    {
     "data": {
      "image/png": "[encoded data removed]",
      "text/plain": [
       "<Figure size 1000x600 with 1 Axes>"
      ]
     },
     "metadata": {},
     "output_type": "display_data"
    }
   ],
   "source": [
    "# We are setting the size of the figure that will be created\n",
    "plt.figure(figsize=(10, 6))\n",
    "\n",
    "# Convert the 'release_date' column to a datetime format\n",
    "df['release_date'] = pd.to_datetime(df['release_date'])\n",
    "\n",
    "# Extract the year from the release_date column and store it in a new column 'year'\n",
    "df['year'] = df['release_date'].dt.year\n",
    "\n",
    "# Create a histogram of the 'year' data, using seaborn's histplot function\n",
    "# We are setting the number of bins to 30 and adding a Kernel Density Estimate (KDE) line to the plot\n",
    "sns.histplot(df['year'], bins=30, kde=True)\n",
    "\n",
    "# Set the labels for the x-axis, y-axis and the title of the plot\n",
    "plt.xlabel('Year')\n",
    "plt.ylabel('Number of Movies')\n",
    "plt.title('Distribution of Movie Releases')\n",
    "\n",
    "# Display the plot\n",
    "plt.show()"
   ]
  },
  {
   "cell_type": "markdown",
   "id": "b9f99e00-a11e-4c3a-a764-b529d9241ca6",
   "metadata": {},
   "source": [
    "## Rating movies\n",
    "The following code calculates the mean rating and the number of ratings each movie received for every section of the code. As a result, the program prints out a list of all the unique users and movies that have been viewed. It also generates a histogram showing the distribution of the number of ratings given for movies which have been rated less than 100 times. Based on this data, we can determine how often most movies are rated and what the average rating is."
   ]
  },
  {
   "cell_type": "code",
   "execution_count": 15,
   "id": "29808863-3692-471d-8820-e7049a9f0766",
   "metadata": {},
   "outputs": [
    {
     "name": "stdout",
     "output_type": "stream",
     "text": [
      "users count: 270896\n",
      "movies count: 45115\n"
     ]
    },
    {
     "data": {
      "text/html": [
       "<div>\n",
       "<style scoped>\n",
       "    .dataframe tbody tr th:only-of-type {\n",
       "        vertical-align: middle;\n",
       "    }\n",
       "\n",
       "    .dataframe tbody tr th {\n",
       "        vertical-align: top;\n",
       "    }\n",
       "\n",
       "    .dataframe thead th {\n",
       "        text-align: right;\n",
       "    }\n",
       "</style>\n",
       "<table border=\"1\" class=\"dataframe\">\n",
       "  <thead>\n",
       "    <tr style=\"text-align: right;\">\n",
       "      <th></th>\n",
       "      <th>rating</th>\n",
       "      <th>num_ratings</th>\n",
       "    </tr>\n",
       "    <tr>\n",
       "      <th>movieId</th>\n",
       "      <th></th>\n",
       "      <th></th>\n",
       "    </tr>\n",
       "  </thead>\n",
       "  <tbody>\n",
       "    <tr>\n",
       "      <th>1</th>\n",
       "      <td>3.888157</td>\n",
       "      <td>66008</td>\n",
       "    </tr>\n",
       "    <tr>\n",
       "      <th>2</th>\n",
       "      <td>3.236953</td>\n",
       "      <td>26060</td>\n",
       "    </tr>\n",
       "    <tr>\n",
       "      <th>3</th>\n",
       "      <td>3.175550</td>\n",
       "      <td>15497</td>\n",
       "    </tr>\n",
       "    <tr>\n",
       "      <th>4</th>\n",
       "      <td>2.875713</td>\n",
       "      <td>2981</td>\n",
       "    </tr>\n",
       "    <tr>\n",
       "      <th>5</th>\n",
       "      <td>3.079565</td>\n",
       "      <td>15258</td>\n",
       "    </tr>\n",
       "  </tbody>\n",
       "</table>\n",
       "</div>"
      ],
      "text/plain": [
       "           rating  num_ratings\n",
       "movieId                       \n",
       "1        3.888157        66008\n",
       "2        3.236953        26060\n",
       "3        3.175550        15497\n",
       "4        2.875713         2981\n",
       "5        3.079565        15258"
      ]
     },
     "execution_count": 15,
     "metadata": {},
     "output_type": "execute_result"
    }
   ],
   "source": [
    "print('users count: {}\\nmovies count: {}'.format(ratings['userId'].nunique(), ratings['movieId'].nunique()))\n",
    "\n",
    "# Compute the mean rating for each movie\n",
    "movie_mean_rating = pd.DataFrame(ratings.groupby('movieId')['rating'].mean())\n",
    "\n",
    "# Compute the number of ratings for each movie\n",
    "movie_mean_rating['num_ratings'] = ratings.groupby('movieId')['rating'].count()\n",
    "\n",
    "# Display the first few rows of the DataFrame\n",
    "movie_mean_rating.head()"
   ]
  },
  {
   "cell_type": "code",
   "execution_count": 16,
   "id": "30ffad7b-488e-4ef3-b888-e237b0253957",
   "metadata": {},
   "outputs": [
    {
     "data": {
      "text/plain": [
       "Text(0, 0.5, 'Frequency')"
      ]
     },
     "execution_count": 16,
     "metadata": {},
     "output_type": "execute_result"
    },
    {
     "data": {
      "image/png": "[encoded data removed]",
      "text/plain": [
       "<Figure size 1500x400 with 1 Axes>"
      ]
     },
     "metadata": {},
     "output_type": "display_data"
    }
   ],
   "source": [
    "# Set the size of the figure\n",
    "plt.figure(figsize=(15,4))\n",
    "\n",
    "# Plot a histogram of the number of ratings for movies that have less than 100 ratings\n",
    "movie_mean_rating[movie_mean_rating['num_ratings'] < 100]['num_ratings'].hist(bins=25)\n",
    "\n",
    "# Set the title, x-axis label, and y-axis label\n",
    "plt.title('Histogram of movies with less than 100 ratings')\n",
    "plt.xlabel(\"Num_ratings\")\n",
    "plt.ylabel(\"Frequency\")"
   ]
  },
  {
   "cell_type": "markdown",
   "id": "dc45e617-cfaa-41ac-b7ef-a9f6d048f214",
   "metadata": {},
   "source": [
    "## Influence of budget and revenue\n",
    "It is in this section, in which we select the column names 'budget', 'revenue', and 'popularity' from the original DataFrame and create a new DataFrame based on these columns. In order to exclude rows with a zero budget or revenue, we first convert these columns into a numeric format. Using the logarithm function we are able to calculate the logarithm of the revenue and budget values so that we can better visualize and work with the data. The final step is to create a scatter plot with the points representing movies, and each point represents the movie. As you can see from the image below, the x-coordinate of the point corresponds to the logarithm of the movie's budget, while the y-coordinate represents the logarithm of its revenue, and the color represents the popularity of the movie. Using this plot, we can see how the budget, revenue, and popularity of a movie are related to each other."
   ]
  },
  {
   "cell_type": "code",
   "execution_count": 17,
   "id": "477d2747-2193-410e-a586-b1926894493f",
   "metadata": {},
   "outputs": [],
   "source": [
    "# Create a new DataFrame 'df_plot' by selecting the required columns from 'df'\n",
    "df_plot = df[['budget', 'revenue', 'popularity']].copy()\n",
    "\n",
    "# Convert 'popularity', 'budget', and 'revenue' columns to numeric format\n",
    "df_plot['popularity'] = pd.to_numeric(df_plot['popularity'], errors='coerce')\n",
    "df_plot['budget'] = pd.to_numeric(df_plot['budget'], errors='coerce')\n",
    "df_plot['revenue'] = pd.to_numeric(df_plot['revenue'], errors='coerce')\n",
    "\n",
    "# Filter the data to exclude zero budget and revenue values\n",
    "df_plot = df_plot[(df_plot['budget'] != 0) & (df_plot['revenue'] != 0)]\n",
    "\n",
    "# Calculate the logarithm of budget and revenue (handling non-numeric and missing values)\n",
    "log_budget = np.log10(df_plot['budget'].replace(0, np.nan))\n",
    "log_revenue = np.log10(df_plot['revenue'].replace(0, np.nan))"
   ]
  },
  {
   "cell_type": "code",
   "execution_count": 18,
   "id": "4f0a9ff5-3bee-4146-bcc9-5f0fa700787f",
   "metadata": {},
   "outputs": [
    {
     "data": {
      "image/png": "[encoded data removed]",
      "text/plain": [
       "<Figure size 1000x600 with 2 Axes>"
      ]
     },
     "metadata": {},
     "output_type": "display_data"
    }
   ],
   "source": [
    "# Create a scatterplot using Matplotlib\n",
    "plt.figure(figsize=(10, 6))\n",
    "plt.scatter(log_budget, log_revenue, c=df_plot['popularity'], cmap='viridis', alpha=0.6)\n",
    "plt.colorbar(label='Popularity')\n",
    "plt.title('Influence of Budget and Revenue on Movie Popularity', fontsize=18, weight='bold')\n",
    "plt.xlabel('Logarithm of Budget')\n",
    "plt.ylabel('Logarithm of Revenue')\n",
    "\n",
    "# Show the plot\n",
    "plt.show()"
   ]
  },
  {
   "cell_type": "markdown",
   "id": "9ed942d4-fb9d-49cf-8404-4a6e83e2588a",
   "metadata": {},
   "source": [
    "## Top movie by Genres\n",
    "In this code block, we create a bar plot that displays the 10 most commonly entered movie genres that are present in the dataset. It is important to note that the length of each bar represents the number of movies in a particular genre. Our goal is to provide a clear visual representation of the data by placing the count next to each bar, which facilitates a better understanding of the data."
   ]
  },
  {
   "cell_type": "code",
   "execution_count": 19,
   "id": "04a15c3f-c55d-4231-a713-b22c12e0aedf",
   "metadata": {},
   "outputs": [
    {
     "data": {
      "image/png": "[encoded data removed]",
      "text/plain": [
       "<Figure size 1000x600 with 1 Axes>"
      ]
     },
     "metadata": {},
     "output_type": "display_data"
    }
   ],
   "source": [
    "# Set the figure size\n",
    "plt.figure(figsize=(10, 6))\n",
    "\n",
    "# Get the counts of each genre\n",
    "genre_counts = df['genres'].value_counts().head(10)\n",
    "\n",
    "# Create a horizontal bar plot\n",
    "sns.barplot(x=genre_counts, y=genre_counts.index, orient='h')\n",
    "\n",
    "# Set the labels and title\n",
    "plt.xlabel('Number of Movies')\n",
    "plt.ylabel('Genres')\n",
    "plt.title('Top 10 Movie Genres')\n",
    "\n",
    "# Add value labels to the bars\n",
    "for i, count in enumerate(genre_counts):\n",
    "    plt.text(count + 5, i, str(count), va='center')\n",
    "\n",
    "# Show the plot\n",
    "plt.show()"
   ]
  },
  {
   "cell_type": "markdown",
   "id": "49f2032e-e2d3-4184-a938-b737601ecfdb",
   "metadata": {},
   "source": [
    "## Hetmap of Movie Features\n",
    "In this section of code, we first select only the numeric columns from the DataFrame and store them in a table. After calculating the correlation matrix, it shows the correlation between each pair of variables that have been paired. It is then used to plot the heatmap using seaborn's heatmap function in order to generate the heatmap. With the help of the heatmap, you can easily see in a color-coded manner which variables have a strong positive correlation with each other, and which variables have a strong negative correlation, making it possible to identify the correlations. As a result, the title of the heatmap will be set to 'Correlation Heatmap of Movie Features' and you will see the plot displayed on your screen. Using this heatmap, we will be able to understand the relationships between different numeric variables in the data and see what is most important to us."
   ]
  },
  {
   "cell_type": "code",
   "execution_count": 20,
   "id": "0cb268e9-1f1e-4c57-8ca2-700ab3c4d729",
   "metadata": {},
   "outputs": [
    {
     "data": {
      "image/png": "[encoded data removed]",
      "text/plain": [
       "<Figure size 1200x800 with 2 Axes>"
      ]
     },
     "metadata": {},
     "output_type": "display_data"
    }
   ],
   "source": [
    "# Select only the numeric columns from the DataFrame\n",
    "numeric_cols = df.select_dtypes(include=[np.number])\n",
    "\n",
    "# Calculate the correlation matrix\n",
    "correlation = numeric_cols.corr()\n",
    "\n",
    "# Plot the correlation matrix using a heatmap\n",
    "plt.figure(figsize=(12, 8))\n",
    "sns.heatmap(correlation, annot=True, cmap='coolwarm', linewidths=0.5)\n",
    "\n",
    "# Set the title of the heatmap\n",
    "plt.title('Correlation Heatmap of Movie Features')\n",
    "\n",
    "# Show the plot\n",
    "plt.show()"
   ]
  },
  {
   "cell_type": "markdown",
   "id": "d3530d64-9b86-4b1a-94a4-ade50b4f363f",
   "metadata": {},
   "source": [
    "## Hybrid Recommender System"
   ]
  },
  {
   "cell_type": "markdown",
   "id": "b9aaef0b-9f40-4833-9de9-93f9fd03653d",
   "metadata": {},
   "source": [
    "The hybrid recommender system combines two approaches, collaborative filtering and content-based filtering, to provide movie recommendations. It leverages user ratings and movie attributes to generate personalized and relevant recommendations. Here's an overview of the steps involved:\n",
    "\n",
    "1. **Data Preparation**: The movie dataset is preprocessed to extract relevant features and calculate weighted scores based on user ratings and movie popularity.\n",
    "\n",
    "2. **Content-Based Filtering**: Movie attributes such as genres, overview, production companies, tagline, keywords, crew, characters, and actors are processed using text preprocessing techniques. This ensures consistency and removes noise from the data. A bag-of-words representation is created for each movie, capturing the essence of its content.\n",
    "\n",
    "3. **Collaborative Filtering**: The content-based representation of movies is used to calculate similarity scores between movies using the cosine similarity measure. This measures the similarity between the content of two movies.\n",
    "\n",
    "4. **Hybrid Recommendations**: Given an input movie, the hybrid recommender system retrieves the similarity scores for that movie and combines them with the weighted scores calculated in the data preparation step. The final score is a weighted average of the weighted score and the similarity score, allowing for personalized and content-driven recommendations.\n",
    "\n",
    "The `predict_recommendations` function is provided to facilitate the process of generating movie recommendations. It takes the input movie title, allows for customizing the similarity weight, and returns a DataFrame with the top recommended movies along with their scores, similarity scores, and final scores."
   ]
  },
  {
   "cell_type": "markdown",
   "id": "60a8644c-4aac-4204-a95b-42ffe9e66255",
   "metadata": {},
   "source": [
    "### Weighted Average Calculation\n",
    "The weighted average rating for each movie is calculated based on the vote average and vote count.\n",
    "- The **vote_average** and  **vote_count** columns from the DataFrame are used to calculate the weighted average.\n",
    "- A minimum vote count threshold is set to ensure reliability.\n",
    "- The result is stored in the  **weighted_average** column."
   ]
  },
  {
   "cell_type": "code",
   "execution_count": 21,
   "id": "a8c0f5da-e30d-423f-8620-cf060666679b",
   "metadata": {},
   "outputs": [],
   "source": [
    "# Calculate the weighted average based on the vote average and vote count\n",
    "vote_average = df['vote_average']\n",
    "vote_count = df['vote_count']\n",
    "minimum_vote_count = df['vote_count'].quantile(0.8)\n",
    "average_vote = df['vote_average'].mean()\n",
    "df['weighted_average'] = (vote_average * vote_count + average_vote * minimum_vote_count) / (vote_count + minimum_vote_count)"
   ]
  },
  {
   "cell_type": "markdown",
   "id": "ee6ee0a2-cdbb-4eaf-a944-6bc01e8d9a03",
   "metadata": {},
   "source": [
    "### Scaling and Scoring\n",
    "The popularity and weighted average columns are scaled using MinMaxScaler:\n",
    "- The **popularity** and **weighted_average** columns are selected, scaled, and stored in a new DataFrame called **weighted_df**.\n",
    "- A score is then calculated by combining the weighted average and popularity.\n",
    "- The score is calculated as a weighted sum of the weighted average and popularity. The result is stored in the **score** column of **weighted_df**."
   ]
  },
  {
   "cell_type": "code",
   "execution_count": 22,
   "id": "e04ea5ad-3e9b-43ee-8777-c16617ec082d",
   "metadata": {},
   "outputs": [],
   "source": [
    "# Scale the popularity and weighted average\n",
    "scaler = MinMaxScaler()\n",
    "scaled_popularity_weighted = scaler.fit_transform(df[['popularity', 'weighted_average']])\n",
    "weighted_df = pd.DataFrame(scaled_popularity_weighted, columns=['popularity', 'weighted_average'])\n",
    "weighted_df.index = df['original_title']"
   ]
  },
  {
   "cell_type": "markdown",
   "id": "7592226e-8b94-4210-b545-ed18d2ef337d",
   "metadata": {},
   "source": [
    "### Sorting and Selection\n",
    "The DataFrame is sorted based on the score in descending order:\n",
    "- The **sorted_weighted_df** DataFrame contains movies sorted by the score."
   ]
  },
  {
   "cell_type": "code",
   "execution_count": 23,
   "id": "c5eaaf6f-d225-4d7c-9197-664df1a5e51d",
   "metadata": {},
   "outputs": [],
   "source": [
    "# Calculate the score by combining the weighted average and popularity\n",
    "weight_average = weighted_df['weighted_average']\n",
    "popularity = weighted_df['popularity']\n",
    "weighted_df['score'] = weight_average * 0.4 + popularity * 0.6"
   ]
  },
  {
   "cell_type": "markdown",
   "id": "10245fd9-ea24-46ae-b852-1a4df3fcaca5",
   "metadata": {},
   "source": [
    "### Sorting and Selection\n",
    "The DataFrame is sorted based on the score in descending order:\n",
    "- The **sorted_weighted_df** DataFrame contains movies sorted by the score."
   ]
  },
  {
   "cell_type": "code",
   "execution_count": 24,
   "id": "25101b8a-d922-4134-9c5b-1f86bf46f411",
   "metadata": {},
   "outputs": [],
   "source": [
    "# Sort the DataFrame based on the score\n",
    "sorted_weighted_df = weighted_df.sort_values(by='score', ascending=False)"
   ]
  },
  {
   "cell_type": "markdown",
   "id": "b0a65392-3621-47d1-9342-966fa17ccd6e",
   "metadata": {},
   "source": [
    "### Hybrid Recommender System\n",
    "The code selects the relevant columns from the DataFrame to build a hybrid recommender system. The selected columns contain important information about the movies."
   ]
  },
  {
   "cell_type": "code",
   "execution_count": 25,
   "id": "d10f3144-cb91-422b-8bcf-7c0b56c000f0",
   "metadata": {},
   "outputs": [],
   "source": [
    "# Select the relevant columns for the hybrid recommender system\n",
    "hybrid_df = df[['original_title', 'adult', 'genres', 'overview', 'production_companies', 'tagline', 'keywords', 'crew', 'characters', 'actors']]"
   ]
  },
  {
   "cell_type": "markdown",
   "id": "c77caa8a-e92a-4ede-b98c-93c475c73471",
   "metadata": {},
   "source": [
    "### Text Preprocessing\n",
    "Helper functions are defined to preprocess text data:\n",
    "- These functions are applied to relevant columns in the 'hybrid_df' DataFrame to remove punctuation, digits, and perform other text cleaning operations."
   ]
  },
  {
   "cell_type": "code",
   "execution_count": 26,
   "id": "4997a24c-6dd9-42e7-9304-1313762bbe22",
   "metadata": {},
   "outputs": [],
   "source": [
    "# Define helper functions for text preprocessing\n",
    "def separate_text(text):\n",
    "    \"\"\"\n",
    "    Separates and preprocesses a text string by removing text inside parentheses,\n",
    "    digits, spaces, and punctuation. Converts the text to lowercase.\n",
    "\n",
    "    Parameters:\n",
    "        text (str): The text string to be processed.\n",
    "\n",
    "    Returns:\n",
    "        str: The cleaned and preprocessed text string.\n",
    "    \"\"\"    \n",
    "    cleaned_text = []\n",
    "    for item in text.split(','):\n",
    "        cleaned_item = re.sub('\\(.*\\)', '', item)  # Remove text inside parentheses\n",
    "        cleaned_item = cleaned_item.translate(str.maketrans('', '', string.digits))\n",
    "        cleaned_item = cleaned_item.replace(' ', '')\n",
    "        cleaned_item = cleaned_item.translate(str.maketrans('', '', string.punctuation)).lower()\n",
    "        cleaned_text.append(cleaned_item)\n",
    "    return ' '.join(cleaned_text)"
   ]
  },
  {
   "cell_type": "code",
   "execution_count": 27,
   "id": "bac1b087-db06-4f11-9964-573f048837d0",
   "metadata": {},
   "outputs": [],
   "source": [
    "def remove_punctuation(text):\n",
    "    \"\"\"\n",
    "    Removes punctuation and digits from a text string and converts it to lowercase.\n",
    "\n",
    "    Parameters:\n",
    "        text (str): The text string to remove punctuation and digits from.\n",
    "\n",
    "    Returns:\n",
    "        str: The cleaned text string without punctuation and digits.\n",
    "    \"\"\"    \n",
    "    cleaned_text = text.translate(str.maketrans('', '', string.punctuation)).lower()\n",
    "    cleaned_text = cleaned_text.translate(str.maketrans('', '', string.digits))\n",
    "    return cleaned_text"
   ]
  },
  {
   "cell_type": "markdown",
   "id": "f53b0ba6-6499-4995-b38f-8b3d55131f57",
   "metadata": {},
   "source": [
    "### Text Preprocessing\n",
    "The code applies text preprocessing techniques to the relevant columns in the hybrid_df DataFrame. Text preprocessing is necessary to clean and standardize the textual data, making it more suitable for further analysis and similarity calculations."
   ]
  },
  {
   "cell_type": "code",
   "execution_count": 28,
   "id": "59278ec6-029f-4146-8186-d0b5ffa7d55e",
   "metadata": {},
   "outputs": [],
   "source": [
    "# Apply text preprocessing to the relevant columns in hybrid_df\n",
    "hybrid_df.loc[:, 'adult'] = hybrid_df['adult'].apply(remove_punctuation)\n",
    "hybrid_df.loc[:, 'genres'] = hybrid_df['genres'].apply(remove_punctuation)\n",
    "hybrid_df.loc[:, 'overview'] = hybrid_df['overview'].apply(remove_punctuation)\n",
    "hybrid_df.loc[:, 'production_companies'] = hybrid_df['production_companies'].apply(separate_text)\n",
    "hybrid_df.loc[:, 'tagline'] = hybrid_df['tagline'].apply(remove_punctuation)\n",
    "hybrid_df.loc[:, 'keywords'] = hybrid_df['keywords'].apply(separate_text)\n",
    "hybrid_df.loc[:, 'crew'] = hybrid_df['crew'].apply(separate_text)\n",
    "hybrid_df.loc[:, 'characters'] = hybrid_df['characters'].apply(separate_text)\n",
    "hybrid_df.loc[:, 'actors'] = hybrid_df['actors'].apply(separate_text)"
   ]
  },
  {
   "cell_type": "markdown",
   "id": "4c19605a-4fc9-4841-9f89-9eeb843f8b3e",
   "metadata": {},
   "source": [
    "### Bag-of-Words Representation\n",
    "The **bag_of_words** column represents a bag-of-words representation of each movie."
   ]
  },
  {
   "cell_type": "code",
   "execution_count": 29,
   "id": "43169c00-8f8b-4c2b-9265-ba74a8db55b3",
   "metadata": {},
   "outputs": [
    {
     "name": "stderr",
     "output_type": "stream",
     "text": [
      "/tmp/ipykernel_327/2104276223.py:2: SettingWithCopyWarning: \n",
      "A value is trying to be set on a copy of a slice from a DataFrame.\n",
      "Try using .loc[row_indexer,col_indexer] = value instead\n",
      "\n",
      "See the caveats in the documentation: https://pandas.pydata.org/pandas-docs/stable/user_guide/indexing.html#returning-a-view-versus-a-copy\n",
      "  hybrid_df['bag_of_words'] = hybrid_df.apply(lambda row: ' '.join(str(x) for x in row), axis=1)\n"
     ]
    }
   ],
   "source": [
    "# Create a bag-of-words representation for the movies\n",
    "hybrid_df['bag_of_words'] = hybrid_df.apply(lambda row: ' '.join(str(x) for x in row), axis=1)\n",
    "hybrid_df = hybrid_df.reset_index().copy()\n",
    "hybrid_df.set_index('original_title', inplace=True)"
   ]
  },
  {
   "cell_type": "markdown",
   "id": "4876cacb-271d-4f6a-97fd-39fa619e88ff",
   "metadata": {},
   "source": [
    "### Similarity Calculation\n",
    "The first 10,000 movies from **sorted_weighted_df** are selected and merged with **hybrid_df** to calculate similarity:\n",
    "- The merged DataFrame, **hybrid_df**, contains the selected movies for similarity calculation.\n",
    "- The count vectorizer converts the **bag_of_words** data into a matrix of token counts.\n",
    "- The cosine similarity matrix measures the similarity between movies based on their bag-of-words representation."
   ]
  },
  {
   "cell_type": "code",
   "execution_count": 30,
   "id": "9bd460a7-8e05-440d-b47e-050113d30ae9",
   "metadata": {},
   "outputs": [],
   "source": [
    "# Select the first 10000 movies from sorted_weighted_df for similarity calculation\n",
    "hybrid_df = sorted_weighted_df[:10000].merge(hybrid_df, left_index=True, right_index=True, how='left')"
   ]
  },
  {
   "cell_type": "code",
   "execution_count": 31,
   "id": "ebc51dbb-c127-4be5-870c-02e53bf4beca",
   "metadata": {},
   "outputs": [],
   "source": [
    "# Create a count vectorizer and fit-transform the bag-of-words data\n",
    "count_vectorizer = CountVectorizer(stop_words='english')\n",
    "count_matrix = count_vectorizer.fit_transform(hybrid_df['bag_of_words'])"
   ]
  },
  {
   "cell_type": "code",
   "execution_count": 32,
   "id": "c80f1046-d013-4d4f-aac0-b4d88c49690a",
   "metadata": {},
   "outputs": [],
   "source": [
    "# Calculate cosine similarity\n",
    "cosine_sim = cosine_similarity(count_matrix)"
   ]
  },
  {
   "cell_type": "markdown",
   "id": "b8c424a3-e081-4b34-bdbe-a6b7b68792f7",
   "metadata": {},
   "source": [
    "### Recommendation Prediction\n",
    "The **predict_recommendations()** function predicts recommendations based on a given movie title:\n",
    "- The function takes the movie title, similarity weight, and the number of top recommendations to return.\n",
    "- It calculates the similarity scores between the given movie and other movies\n",
    "- The similarity scores are then sorted, and the top similar movies are selected\n",
    "Finally, the function calculates a final score by combining the weighted average score and the similarity score, sorts the recommended movies by the final score, and returns the recommendations."
   ]
  },
  {
   "cell_type": "code",
   "execution_count": 33,
   "id": "ed8d4afe-bbca-443d-8cef-303d18209c8a",
   "metadata": {},
   "outputs": [],
   "source": [
    "def predict_recommendations(title, similarity_weight=0.7, top_n=10):\n",
    "    # Get the index of the input movie\n",
    "    movie_index = hybrid_df.index.get_loc(title)\n",
    "    \n",
    "    # Extract the similarity scores for the input movie\n",
    "    similarity_scores = list(enumerate(cosine_sim[movie_index]))\n",
    "    \n",
    "    # Sort the similarity scores in descending order\n",
    "    similarity_scores = sorted(similarity_scores, key=lambda x: x[1], reverse=True)\n",
    "    \n",
    "    # Get the top N similar movies\n",
    "    top_movies = similarity_scores[1:top_n+1]\n",
    "    \n",
    "    # Get the indices and similarity scores of the top movies\n",
    "    movie_indices = [index for index, _ in top_movies]\n",
    "    movie_scores = [score for _, score in top_movies]\n",
    "    \n",
    "    # Get the corresponding movie titles and scores\n",
    "    recommended_movies = hybrid_df.iloc[movie_indices][['score']]\n",
    "    recommended_movies['similarity'] = movie_scores\n",
    "    \n",
    "    # Calculate the final score by combining the weighted average and similarity score\n",
    "    recommended_movies['final_score'] = recommended_movies['score'] * (1 - similarity_weight) + recommended_movies['similarity'] * similarity_weight\n",
    "    \n",
    "    # Sort the DataFrame by the final score in descending order\n",
    "    recommended_movies = recommended_movies.sort_values(by='final_score', ascending=False)\n",
    "    \n",
    "    return recommended_movies[['score', 'similarity', 'final_score']]"
   ]
  },
  {
   "cell_type": "markdown",
   "id": "9a969617-e97e-4a4d-b6eb-d5577fc2ac64",
   "metadata": {},
   "source": [
    "### Example Usage"
   ]
  },
  {
   "cell_type": "code",
   "execution_count": 34,
   "id": "15f693e8-12ea-45f2-abe8-f09ae07688d6",
   "metadata": {},
   "outputs": [
    {
     "data": {
      "text/html": [
       "<div>\n",
       "<style scoped>\n",
       "    .dataframe tbody tr th:only-of-type {\n",
       "        vertical-align: middle;\n",
       "    }\n",
       "\n",
       "    .dataframe tbody tr th {\n",
       "        vertical-align: top;\n",
       "    }\n",
       "\n",
       "    .dataframe thead th {\n",
       "        text-align: right;\n",
       "    }\n",
       "</style>\n",
       "<table border=\"1\" class=\"dataframe\">\n",
       "  <thead>\n",
       "    <tr style=\"text-align: right;\">\n",
       "      <th></th>\n",
       "      <th>score</th>\n",
       "      <th>similarity</th>\n",
       "      <th>final_score</th>\n",
       "    </tr>\n",
       "    <tr>\n",
       "      <th>original_title</th>\n",
       "      <th></th>\n",
       "      <th></th>\n",
       "      <th></th>\n",
       "    </tr>\n",
       "  </thead>\n",
       "  <tbody>\n",
       "    <tr>\n",
       "      <th>Guardians of the Galaxy Vol. 2</th>\n",
       "      <td>0.521054</td>\n",
       "      <td>0.224474</td>\n",
       "      <td>0.313448</td>\n",
       "    </tr>\n",
       "    <tr>\n",
       "      <th>Avengers: Age of Ultron</th>\n",
       "      <td>0.340106</td>\n",
       "      <td>0.145994</td>\n",
       "      <td>0.204227</td>\n",
       "    </tr>\n",
       "    <tr>\n",
       "      <th>Thor: The Dark World</th>\n",
       "      <td>0.305189</td>\n",
       "      <td>0.109582</td>\n",
       "      <td>0.168264</td>\n",
       "    </tr>\n",
       "    <tr>\n",
       "      <th>Super</th>\n",
       "      <td>0.257665</td>\n",
       "      <td>0.096848</td>\n",
       "      <td>0.145093</td>\n",
       "    </tr>\n",
       "    <tr>\n",
       "      <th>Captain America: The First Avenger</th>\n",
       "      <td>0.275560</td>\n",
       "      <td>0.078261</td>\n",
       "      <td>0.137450</td>\n",
       "    </tr>\n",
       "    <tr>\n",
       "      <th>Thor</th>\n",
       "      <td>0.286306</td>\n",
       "      <td>0.072841</td>\n",
       "      <td>0.136881</td>\n",
       "    </tr>\n",
       "    <tr>\n",
       "      <th>Team Thor</th>\n",
       "      <td>0.276871</td>\n",
       "      <td>0.073865</td>\n",
       "      <td>0.134767</td>\n",
       "    </tr>\n",
       "    <tr>\n",
       "      <th>Thor: Ragnarok</th>\n",
       "      <td>0.256645</td>\n",
       "      <td>0.072152</td>\n",
       "      <td>0.127500</td>\n",
       "    </tr>\n",
       "    <tr>\n",
       "      <th>Titan A.E.</th>\n",
       "      <td>0.237998</td>\n",
       "      <td>0.076999</td>\n",
       "      <td>0.125299</td>\n",
       "    </tr>\n",
       "    <tr>\n",
       "      <th>Marvel: 75 Years, From Pulp to Pop!</th>\n",
       "      <td>0.240971</td>\n",
       "      <td>0.074631</td>\n",
       "      <td>0.124533</td>\n",
       "    </tr>\n",
       "  </tbody>\n",
       "</table>\n",
       "</div>"
      ],
      "text/plain": [
       "                                        score  similarity  final_score\n",
       "original_title                                                        \n",
       "Guardians of the Galaxy Vol. 2       0.521054    0.224474     0.313448\n",
       "Avengers: Age of Ultron              0.340106    0.145994     0.204227\n",
       "Thor: The Dark World                 0.305189    0.109582     0.168264\n",
       "Super                                0.257665    0.096848     0.145093\n",
       "Captain America: The First Avenger   0.275560    0.078261     0.137450\n",
       "Thor                                 0.286306    0.072841     0.136881\n",
       "Team Thor                            0.276871    0.073865     0.134767\n",
       "Thor: Ragnarok                       0.256645    0.072152     0.127500\n",
       "Titan A.E.                           0.237998    0.076999     0.125299\n",
       "Marvel: 75 Years, From Pulp to Pop!  0.240971    0.074631     0.124533"
      ]
     },
     "execution_count": 34,
     "metadata": {},
     "output_type": "execute_result"
    }
   ],
   "source": [
    "# Example usage: predict recommendations for the movie 'Guardians of the Galaxy'\n",
    "recommendations = predict_recommendations('Guardians of the Galaxy', similarity_weight=0.7, top_n=10)\n",
    "recommendations"
   ]
  },
  {
   "cell_type": "code",
   "execution_count": 35,
   "id": "89c6292e-caae-4a6e-9a8e-c5808433cf7f",
   "metadata": {},
   "outputs": [
    {
     "data": {
      "text/html": [
       "<div>\n",
       "<style scoped>\n",
       "    .dataframe tbody tr th:only-of-type {\n",
       "        vertical-align: middle;\n",
       "    }\n",
       "\n",
       "    .dataframe tbody tr th {\n",
       "        vertical-align: top;\n",
       "    }\n",
       "\n",
       "    .dataframe thead th {\n",
       "        text-align: right;\n",
       "    }\n",
       "</style>\n",
       "<table border=\"1\" class=\"dataframe\">\n",
       "  <thead>\n",
       "    <tr style=\"text-align: right;\">\n",
       "      <th></th>\n",
       "      <th>score</th>\n",
       "      <th>similarity</th>\n",
       "      <th>final_score</th>\n",
       "    </tr>\n",
       "    <tr>\n",
       "      <th>original_title</th>\n",
       "      <th></th>\n",
       "      <th></th>\n",
       "      <th></th>\n",
       "    </tr>\n",
       "  </thead>\n",
       "  <tbody>\n",
       "    <tr>\n",
       "      <th>Superman II</th>\n",
       "      <td>0.255648</td>\n",
       "      <td>0.256978</td>\n",
       "      <td>0.256579</td>\n",
       "    </tr>\n",
       "    <tr>\n",
       "      <th>All Star Superman</th>\n",
       "      <td>0.254341</td>\n",
       "      <td>0.160774</td>\n",
       "      <td>0.188844</td>\n",
       "    </tr>\n",
       "    <tr>\n",
       "      <th>Superman: Doomsday</th>\n",
       "      <td>0.242297</td>\n",
       "      <td>0.139004</td>\n",
       "      <td>0.169992</td>\n",
       "    </tr>\n",
       "    <tr>\n",
       "      <th>Superman vs. The Elite</th>\n",
       "      <td>0.241476</td>\n",
       "      <td>0.126660</td>\n",
       "      <td>0.161105</td>\n",
       "    </tr>\n",
       "    <tr>\n",
       "      <th>Superman/Batman: Public Enemies</th>\n",
       "      <td>0.254207</td>\n",
       "      <td>0.120689</td>\n",
       "      <td>0.160744</td>\n",
       "    </tr>\n",
       "    <tr>\n",
       "      <th>Man of Steel</th>\n",
       "      <td>0.268259</td>\n",
       "      <td>0.105230</td>\n",
       "      <td>0.154139</td>\n",
       "    </tr>\n",
       "    <tr>\n",
       "      <th>The Batman Superman Movie: World's Finest</th>\n",
       "      <td>0.245762</td>\n",
       "      <td>0.112272</td>\n",
       "      <td>0.152319</td>\n",
       "    </tr>\n",
       "    <tr>\n",
       "      <th>Superman: Unbound</th>\n",
       "      <td>0.243484</td>\n",
       "      <td>0.097711</td>\n",
       "      <td>0.141443</td>\n",
       "    </tr>\n",
       "    <tr>\n",
       "      <th>Delirium</th>\n",
       "      <td>0.228898</td>\n",
       "      <td>0.081331</td>\n",
       "      <td>0.125601</td>\n",
       "    </tr>\n",
       "    <tr>\n",
       "      <th>Lego Batman: The Movie - DC Super Heroes Unite</th>\n",
       "      <td>0.225119</td>\n",
       "      <td>0.082329</td>\n",
       "      <td>0.125166</td>\n",
       "    </tr>\n",
       "  </tbody>\n",
       "</table>\n",
       "</div>"
      ],
      "text/plain": [
       "                                                   score  similarity  \\\n",
       "original_title                                                         \n",
       "Superman II                                     0.255648    0.256978   \n",
       "All Star Superman                               0.254341    0.160774   \n",
       "Superman: Doomsday                              0.242297    0.139004   \n",
       "Superman vs. The Elite                          0.241476    0.126660   \n",
       "Superman/Batman: Public Enemies                 0.254207    0.120689   \n",
       "Man of Steel                                    0.268259    0.105230   \n",
       "The Batman Superman Movie: World's Finest       0.245762    0.112272   \n",
       "Superman: Unbound                               0.243484    0.097711   \n",
       "Delirium                                        0.228898    0.081331   \n",
       "Lego Batman: The Movie - DC Super Heroes Unite  0.225119    0.082329   \n",
       "\n",
       "                                                final_score  \n",
       "original_title                                               \n",
       "Superman II                                        0.256579  \n",
       "All Star Superman                                  0.188844  \n",
       "Superman: Doomsday                                 0.169992  \n",
       "Superman vs. The Elite                             0.161105  \n",
       "Superman/Batman: Public Enemies                    0.160744  \n",
       "Man of Steel                                       0.154139  \n",
       "The Batman Superman Movie: World's Finest          0.152319  \n",
       "Superman: Unbound                                  0.141443  \n",
       "Delirium                                           0.125601  \n",
       "Lego Batman: The Movie - DC Super Heroes Unite     0.125166  "
      ]
     },
     "execution_count": 35,
     "metadata": {},
     "output_type": "execute_result"
    }
   ],
   "source": [
    "# Example usage: predict recommendations for the movie 'Superman'\n",
    "recommendations = predict_recommendations('Superman', similarity_weight=0.7, top_n=10)\n",
    "recommendations"
   ]
  },
  {
   "cell_type": "code",
   "execution_count": 36,
   "id": "b90a1795-6267-4991-a831-311a81f189e6",
   "metadata": {},
   "outputs": [
    {
     "data": {
      "text/html": [
       "<div>\n",
       "<style scoped>\n",
       "    .dataframe tbody tr th:only-of-type {\n",
       "        vertical-align: middle;\n",
       "    }\n",
       "\n",
       "    .dataframe tbody tr th {\n",
       "        vertical-align: top;\n",
       "    }\n",
       "\n",
       "    .dataframe thead th {\n",
       "        text-align: right;\n",
       "    }\n",
       "</style>\n",
       "<table border=\"1\" class=\"dataframe\">\n",
       "  <thead>\n",
       "    <tr style=\"text-align: right;\">\n",
       "      <th></th>\n",
       "      <th>score</th>\n",
       "      <th>similarity</th>\n",
       "      <th>final_score</th>\n",
       "    </tr>\n",
       "    <tr>\n",
       "      <th>original_title</th>\n",
       "      <th></th>\n",
       "      <th></th>\n",
       "      <th></th>\n",
       "    </tr>\n",
       "  </thead>\n",
       "  <tbody>\n",
       "    <tr>\n",
       "      <th>Harry Potter and the Philosopher's Stone</th>\n",
       "      <td>0.353818</td>\n",
       "      <td>0.458388</td>\n",
       "      <td>0.427017</td>\n",
       "    </tr>\n",
       "    <tr>\n",
       "      <th>Harry Potter and the Prisoner of Azkaban</th>\n",
       "      <td>0.355779</td>\n",
       "      <td>0.432294</td>\n",
       "      <td>0.409339</td>\n",
       "    </tr>\n",
       "    <tr>\n",
       "      <th>Harry Potter and the Goblet of Fire</th>\n",
       "      <td>0.339053</td>\n",
       "      <td>0.328706</td>\n",
       "      <td>0.331810</td>\n",
       "    </tr>\n",
       "    <tr>\n",
       "      <th>Harry Potter and the Order of the Phoenix</th>\n",
       "      <td>0.328766</td>\n",
       "      <td>0.311074</td>\n",
       "      <td>0.316381</td>\n",
       "    </tr>\n",
       "    <tr>\n",
       "      <th>Harry Potter and the Half-Blood Prince</th>\n",
       "      <td>0.326230</td>\n",
       "      <td>0.311138</td>\n",
       "      <td>0.315666</td>\n",
       "    </tr>\n",
       "    <tr>\n",
       "      <th>Harry Potter and the Deathly Hallows: Part 2</th>\n",
       "      <td>0.364776</td>\n",
       "      <td>0.228523</td>\n",
       "      <td>0.269399</td>\n",
       "    </tr>\n",
       "    <tr>\n",
       "      <th>Harry Potter and the Deathly Hallows: Part 1</th>\n",
       "      <td>0.337288</td>\n",
       "      <td>0.186151</td>\n",
       "      <td>0.231492</td>\n",
       "    </tr>\n",
       "    <tr>\n",
       "      <th>A Very Potter Musical</th>\n",
       "      <td>0.232156</td>\n",
       "      <td>0.085315</td>\n",
       "      <td>0.129367</td>\n",
       "    </tr>\n",
       "    <tr>\n",
       "      <th>Stepmom</th>\n",
       "      <td>0.269863</td>\n",
       "      <td>0.065407</td>\n",
       "      <td>0.126744</td>\n",
       "    </tr>\n",
       "    <tr>\n",
       "      <th>Harry, un ami qui vous veut du bien</th>\n",
       "      <td>0.228424</td>\n",
       "      <td>0.067844</td>\n",
       "      <td>0.116018</td>\n",
       "    </tr>\n",
       "  </tbody>\n",
       "</table>\n",
       "</div>"
      ],
      "text/plain": [
       "                                                 score  similarity  \\\n",
       "original_title                                                       \n",
       "Harry Potter and the Philosopher's Stone      0.353818    0.458388   \n",
       "Harry Potter and the Prisoner of Azkaban      0.355779    0.432294   \n",
       "Harry Potter and the Goblet of Fire           0.339053    0.328706   \n",
       "Harry Potter and the Order of the Phoenix     0.328766    0.311074   \n",
       "Harry Potter and the Half-Blood Prince        0.326230    0.311138   \n",
       "Harry Potter and the Deathly Hallows: Part 2  0.364776    0.228523   \n",
       "Harry Potter and the Deathly Hallows: Part 1  0.337288    0.186151   \n",
       "A Very Potter Musical                         0.232156    0.085315   \n",
       "Stepmom                                       0.269863    0.065407   \n",
       "Harry, un ami qui vous veut du bien           0.228424    0.067844   \n",
       "\n",
       "                                              final_score  \n",
       "original_title                                             \n",
       "Harry Potter and the Philosopher's Stone         0.427017  \n",
       "Harry Potter and the Prisoner of Azkaban         0.409339  \n",
       "Harry Potter and the Goblet of Fire              0.331810  \n",
       "Harry Potter and the Order of the Phoenix        0.316381  \n",
       "Harry Potter and the Half-Blood Prince           0.315666  \n",
       "Harry Potter and the Deathly Hallows: Part 2     0.269399  \n",
       "Harry Potter and the Deathly Hallows: Part 1     0.231492  \n",
       "A Very Potter Musical                            0.129367  \n",
       "Stepmom                                          0.126744  \n",
       "Harry, un ami qui vous veut du bien              0.116018  "
      ]
     },
     "execution_count": 36,
     "metadata": {},
     "output_type": "execute_result"
    }
   ],
   "source": [
    "# Example usage: predict recommendations for the movie 'Harry Potter and the Chamber of Secrets'\n",
    "recommendations = predict_recommendations('Harry Potter and the Chamber of Secrets', similarity_weight=0.7, top_n=10)\n",
    "recommendations"
   ]
  },
  {
   "cell_type": "code",
   "execution_count": 37,
   "id": "a6917d3c-fe55-46e1-9f1e-32325412b3fa",
   "metadata": {},
   "outputs": [
    {
     "data": {
      "text/html": [
       "<div>\n",
       "<style scoped>\n",
       "    .dataframe tbody tr th:only-of-type {\n",
       "        vertical-align: middle;\n",
       "    }\n",
       "\n",
       "    .dataframe tbody tr th {\n",
       "        vertical-align: top;\n",
       "    }\n",
       "\n",
       "    .dataframe thead th {\n",
       "        text-align: right;\n",
       "    }\n",
       "</style>\n",
       "<table border=\"1\" class=\"dataframe\">\n",
       "  <thead>\n",
       "    <tr style=\"text-align: right;\">\n",
       "      <th></th>\n",
       "      <th>score</th>\n",
       "      <th>similarity</th>\n",
       "      <th>final_score</th>\n",
       "    </tr>\n",
       "    <tr>\n",
       "      <th>original_title</th>\n",
       "      <th></th>\n",
       "      <th></th>\n",
       "      <th></th>\n",
       "    </tr>\n",
       "  </thead>\n",
       "  <tbody>\n",
       "    <tr>\n",
       "      <th>Rocky II</th>\n",
       "      <td>0.282966</td>\n",
       "      <td>0.385886</td>\n",
       "      <td>0.355010</td>\n",
       "    </tr>\n",
       "    <tr>\n",
       "      <th>Rocky III</th>\n",
       "      <td>0.264317</td>\n",
       "      <td>0.312586</td>\n",
       "      <td>0.298105</td>\n",
       "    </tr>\n",
       "    <tr>\n",
       "      <th>Rocky Balboa</th>\n",
       "      <td>0.258131</td>\n",
       "      <td>0.304354</td>\n",
       "      <td>0.290487</td>\n",
       "    </tr>\n",
       "    <tr>\n",
       "      <th>Rocky IV</th>\n",
       "      <td>0.263051</td>\n",
       "      <td>0.286560</td>\n",
       "      <td>0.279507</td>\n",
       "    </tr>\n",
       "    <tr>\n",
       "      <th>Creed</th>\n",
       "      <td>0.333891</td>\n",
       "      <td>0.128169</td>\n",
       "      <td>0.189886</td>\n",
       "    </tr>\n",
       "    <tr>\n",
       "      <th>Angels with Dirty Faces</th>\n",
       "      <td>0.278984</td>\n",
       "      <td>0.080978</td>\n",
       "      <td>0.140380</td>\n",
       "    </tr>\n",
       "    <tr>\n",
       "      <th>8 Seconds</th>\n",
       "      <td>0.225955</td>\n",
       "      <td>0.093934</td>\n",
       "      <td>0.133540</td>\n",
       "    </tr>\n",
       "    <tr>\n",
       "      <th>The Greatest Show on Earth</th>\n",
       "      <td>0.228736</td>\n",
       "      <td>0.085487</td>\n",
       "      <td>0.128461</td>\n",
       "    </tr>\n",
       "    <tr>\n",
       "      <th>Never Back Down: No Surrender</th>\n",
       "      <td>0.244925</td>\n",
       "      <td>0.077630</td>\n",
       "      <td>0.127818</td>\n",
       "    </tr>\n",
       "    <tr>\n",
       "      <th>Facing Ali</th>\n",
       "      <td>0.217928</td>\n",
       "      <td>0.076073</td>\n",
       "      <td>0.118629</td>\n",
       "    </tr>\n",
       "  </tbody>\n",
       "</table>\n",
       "</div>"
      ],
      "text/plain": [
       "                                  score  similarity  final_score\n",
       "original_title                                                  \n",
       "Rocky II                       0.282966    0.385886     0.355010\n",
       "Rocky III                      0.264317    0.312586     0.298105\n",
       "Rocky Balboa                   0.258131    0.304354     0.290487\n",
       "Rocky IV                       0.263051    0.286560     0.279507\n",
       "Creed                          0.333891    0.128169     0.189886\n",
       "Angels with Dirty Faces        0.278984    0.080978     0.140380\n",
       "8 Seconds                      0.225955    0.093934     0.133540\n",
       "The Greatest Show on Earth     0.228736    0.085487     0.128461\n",
       "Never Back Down: No Surrender  0.244925    0.077630     0.127818\n",
       "Facing Ali                     0.217928    0.076073     0.118629"
      ]
     },
     "execution_count": 37,
     "metadata": {},
     "output_type": "execute_result"
    }
   ],
   "source": [
    "# Example usage: predict recommendations for the movie 'Rocky'\n",
    "recommendations = predict_recommendations('Rocky', similarity_weight=0.7, top_n=10)\n",
    "recommendations"
   ]
  },
  {
   "cell_type": "markdown",
   "id": "eeaa2356-3986-4cfe-a2ad-79b6f17b8c0e",
   "metadata": {},
   "source": [
    "## Content-Based Movie Recommendation System: Exploring Movie Attributes for Personalized Suggestions\n",
    "\n",
    "This movie recommendation system utilizes the content-based filtering approach to suggest similar movies based on their content features. The system takes into account various attributes such as movie descriptions, taglines, keywords, cast, director, and genres. By analyzing these characteristics, it identifies movies that share similar content and recommends them to users.\n",
    "1. **Data Preparation**\n",
    "   - The necessary columns are selected from the dataset, including movie information, cast, crew, and keywords.\n",
    "   - Data types are adjusted, and non-finite values are replaced with NaN.\n",
    "\n",
    "2. **Feature Extraction**\n",
    "   - The cast, crew, and keywords columns are converted from strings to lists using literal_eval and ast.literal_eval functions.\n",
    "   - The director's name is extracted from the crew column.\n",
    "   - The top three cast members' names are extracted and processed.\n",
    "   - The keywords are stemmed, lowercased, and spaces are removed.\n",
    "   - All the features (director, cast, and keywords) are combined into a single 'soup' column.\n",
    "\n",
    "3. **Text Vectorization**\n",
    "   - The 'soup' column is converted from a list of words to a single string using ' '.join.\n",
    "   - The CountVectorizer is used to convert the text into numerical features.\n",
    "   - The 'soup' column is fit-transformed using CountVectorizer, resulting in a sparse matrix representation.\n",
    "\n",
    "4. **Similarity Calculation**\n",
    "   - The cosine similarity matrix is computed based on the soup features using cosine_similarity function.\n",
    "\n",
    "5. **Approximate Nearest Neighbors (ANN) Indexing**\n",
    "   - An Annoy index is created to efficiently find approximate nearest neighbors.\n",
    "   - Items are added to the index in batches, reducing the number of individual operations.\n",
    "   - The index is built with a specified number of trees.\n",
    "\n",
    "6. **Recommendation Generation**\n",
    "   - The predict_recommendations function takes a movie title as input.\n",
    "   - The index of the input movie is determined based on the filtered_meta_data DataFrame.\n",
    "   - Approximate nearest neighbors are found using the Annoy index.\n",
    "   - The recommended movies and their similarity scores are extracted.\n",
    "   - The final score is calculated as the similarity score.\n",
    "   - The recommended movies are sorted based on the final score in descending order.\n",
    "\n",
    "7. **Usage**\n",
    "   - The movie title for which recommendations are desired is provided.\n",
    "   - The predict_recommendations function is called with the movie title.\n",
    "   - The recommendations DataFrame, including movie titles, similarity scores, and final scores, is returned.\n",
    "   - The recommendations are printed to the console.\n",
    "\n",
    "This movie recommendation system leverages the content of movies, including their directors, cast, and keywords, to provide personalized suggestions for similar movies. The use of approximate nearest neighbors indexing helps to improve the efficiency and scalability of the recommendation process.\n",
    "\n"
   ]
  },
  {
   "cell_type": "markdown",
   "id": "81d3e885-827c-4609-9d27-8e2e12fb024a",
   "metadata": {},
   "source": [
    "## Data Preprocessing\n",
    "The code performs data preprocessing steps on the **movies**, **links**, **keywords**, and **credits** DataFrames before merging them and creating a similarity matrix for content-based filtering."
   ]
  },
  {
   "cell_type": "markdown",
   "id": "d3617662-b893-45d5-9e69-bbdf75649144",
   "metadata": {},
   "source": [
    "### Convert Columns to Integer and Replace Non-Finite Values\n",
    "The 'id' column in the 'movies' DataFrame is converted to an integer:"
   ]
  },
  {
   "cell_type": "code",
   "execution_count": 38,
   "id": "08b58502-28ba-4adc-9a1d-3b6567fd8cdd",
   "metadata": {},
   "outputs": [],
   "source": [
    "# Convert 'id' column to integer\n",
    "movies['id'] = movies['id'].astype(int)"
   ]
  },
  {
   "cell_type": "code",
   "execution_count": 39,
   "id": "27ced228-4860-42ee-aabe-a1b3d55652a6",
   "metadata": {},
   "outputs": [],
   "source": [
    "# Replace non-finite values with NaN\n",
    "links['tmdbId'] = links['tmdbId'].replace([np.inf, -np.inf], np.nan)"
   ]
  },
  {
   "cell_type": "code",
   "execution_count": 40,
   "id": "7e9548e3-8ab1-4d5d-97f1-48d9b37b1e68",
   "metadata": {},
   "outputs": [],
   "source": [
    "# Convert 'tmdbId' column to integer\n",
    "links['tmdbId'] = links['tmdbId'].astype(float).astype('Int64')"
   ]
  },
  {
   "cell_type": "code",
   "execution_count": 41,
   "id": "b8be2ff2-b55d-4664-96c8-aac1befad9ca",
   "metadata": {},
   "outputs": [
    {
     "data": {
      "text/html": [
       "<div>\n",
       "<style scoped>\n",
       "    .dataframe tbody tr th:only-of-type {\n",
       "        vertical-align: middle;\n",
       "    }\n",
       "\n",
       "    .dataframe tbody tr th {\n",
       "        vertical-align: top;\n",
       "    }\n",
       "\n",
       "    .dataframe thead th {\n",
       "        text-align: right;\n",
       "    }\n",
       "</style>\n",
       "<table border=\"1\" class=\"dataframe\">\n",
       "  <thead>\n",
       "    <tr style=\"text-align: right;\">\n",
       "      <th></th>\n",
       "      <th>movieId</th>\n",
       "      <th>imdbId</th>\n",
       "      <th>tmdbId</th>\n",
       "    </tr>\n",
       "  </thead>\n",
       "  <tbody>\n",
       "    <tr>\n",
       "      <th>0</th>\n",
       "      <td>1</td>\n",
       "      <td>114709</td>\n",
       "      <td>862</td>\n",
       "    </tr>\n",
       "    <tr>\n",
       "      <th>1</th>\n",
       "      <td>2</td>\n",
       "      <td>113497</td>\n",
       "      <td>8844</td>\n",
       "    </tr>\n",
       "    <tr>\n",
       "      <th>2</th>\n",
       "      <td>3</td>\n",
       "      <td>113228</td>\n",
       "      <td>15602</td>\n",
       "    </tr>\n",
       "    <tr>\n",
       "      <th>3</th>\n",
       "      <td>4</td>\n",
       "      <td>114885</td>\n",
       "      <td>31357</td>\n",
       "    </tr>\n",
       "    <tr>\n",
       "      <th>4</th>\n",
       "      <td>5</td>\n",
       "      <td>113041</td>\n",
       "      <td>11862</td>\n",
       "    </tr>\n",
       "  </tbody>\n",
       "</table>\n",
       "</div>"
      ],
      "text/plain": [
       "   movieId  imdbId  tmdbId\n",
       "0        1  114709     862\n",
       "1        2  113497    8844\n",
       "2        3  113228   15602\n",
       "3        4  114885   31357\n",
       "4        5  113041   11862"
      ]
     },
     "execution_count": 41,
     "metadata": {},
     "output_type": "execute_result"
    }
   ],
   "source": [
    "links.head()"
   ]
  },
  {
   "cell_type": "code",
   "execution_count": 42,
   "id": "b39beb1b-a97a-4f87-9ba8-1985bed9b142",
   "metadata": {},
   "outputs": [],
   "source": [
    "# Replace non-finite values with NaN in 'id' column of keywords DataFrame\n",
    "keywords['id'] = keywords['id'].replace([np.inf, -np.inf], np.nan)\n",
    "\n",
    "# Convert 'id' column to integer in keywords DataFrame\n",
    "keywords['id'] = keywords['id'].astype(float).astype('Int64')\n",
    "\n",
    "# Replace non-finite values with NaN in 'id' column of credits DataFrame\n",
    "credits['id'] = credits['id'].replace([np.inf, -np.inf], np.nan)\n",
    "\n",
    "# Convert 'id' column to integer in credits DataFrame\n",
    "credits['id'] = credits['id'].astype(float).astype('Int64')"
   ]
  },
  {
   "cell_type": "markdown",
   "id": "7b223d0e-b434-4ec2-98d2-2547610c4f40",
   "metadata": {},
   "source": [
    "### Merge DataFrames\n",
    "The **movies**, **credits**, and **keywords** DataFrames are merged based on the **id** column:"
   ]
  },
  {
   "cell_type": "code",
   "execution_count": 43,
   "id": "aebad311-7329-446e-b0c1-8bdb7461987e",
   "metadata": {},
   "outputs": [
    {
     "data": {
      "text/html": [
       "<div>\n",
       "<style scoped>\n",
       "    .dataframe tbody tr th:only-of-type {\n",
       "        vertical-align: middle;\n",
       "    }\n",
       "\n",
       "    .dataframe tbody tr th {\n",
       "        vertical-align: top;\n",
       "    }\n",
       "\n",
       "    .dataframe thead th {\n",
       "        text-align: right;\n",
       "    }\n",
       "</style>\n",
       "<table border=\"1\" class=\"dataframe\">\n",
       "  <thead>\n",
       "    <tr style=\"text-align: right;\">\n",
       "      <th></th>\n",
       "      <th>adult</th>\n",
       "      <th>budget</th>\n",
       "      <th>genres</th>\n",
       "      <th>id</th>\n",
       "      <th>original_language</th>\n",
       "      <th>original_title</th>\n",
       "      <th>overview</th>\n",
       "      <th>popularity</th>\n",
       "      <th>production_companies</th>\n",
       "      <th>production_countries</th>\n",
       "      <th>release_date</th>\n",
       "      <th>revenue</th>\n",
       "      <th>runtime</th>\n",
       "      <th>spoken_languages</th>\n",
       "      <th>tagline</th>\n",
       "      <th>vote_average</th>\n",
       "      <th>vote_count</th>\n",
       "      <th>cast</th>\n",
       "      <th>crew</th>\n",
       "      <th>keywords</th>\n",
       "    </tr>\n",
       "  </thead>\n",
       "  <tbody>\n",
       "    <tr>\n",
       "      <th>0</th>\n",
       "      <td>False</td>\n",
       "      <td>30000000</td>\n",
       "      <td>[{'id': 16, 'name': 'Animation'}, {'id': 35, '...</td>\n",
       "      <td>862</td>\n",
       "      <td>en</td>\n",
       "      <td>Toy Story</td>\n",
       "      <td>Led by Woody, Andy's toys live happily in his ...</td>\n",
       "      <td>21.946943</td>\n",
       "      <td>[{'name': 'Pixar Animation Studios', 'id': 3}]</td>\n",
       "      <td>[{'iso_3166_1': 'US', 'name': 'United States o...</td>\n",
       "      <td>1995-10-30</td>\n",
       "      <td>373554033.0</td>\n",
       "      <td>81.0</td>\n",
       "      <td>[{'iso_639_1': 'en', 'name': 'English'}]</td>\n",
       "      <td>NaN</td>\n",
       "      <td>7.7</td>\n",
       "      <td>5415.0</td>\n",
       "      <td>[{'cast_id': 14, 'character': 'Woody (voice)',...</td>\n",
       "      <td>[{'credit_id': '52fe4284c3a36847f8024f49', 'de...</td>\n",
       "      <td>[{'id': 931, 'name': 'jealousy'}, {'id': 4290,...</td>\n",
       "    </tr>\n",
       "    <tr>\n",
       "      <th>1</th>\n",
       "      <td>False</td>\n",
       "      <td>65000000</td>\n",
       "      <td>[{'id': 12, 'name': 'Adventure'}, {'id': 14, '...</td>\n",
       "      <td>8844</td>\n",
       "      <td>en</td>\n",
       "      <td>Jumanji</td>\n",
       "      <td>When siblings Judy and Peter discover an encha...</td>\n",
       "      <td>17.015539</td>\n",
       "      <td>[{'name': 'TriStar Pictures', 'id': 559}, {'na...</td>\n",
       "      <td>[{'iso_3166_1': 'US', 'name': 'United States o...</td>\n",
       "      <td>1995-12-15</td>\n",
       "      <td>262797249.0</td>\n",
       "      <td>104.0</td>\n",
       "      <td>[{'iso_639_1': 'en', 'name': 'English'}, {'iso...</td>\n",
       "      <td>Roll the dice and unleash the excitement!</td>\n",
       "      <td>6.9</td>\n",
       "      <td>2413.0</td>\n",
       "      <td>[{'cast_id': 1, 'character': 'Alan Parrish', '...</td>\n",
       "      <td>[{'credit_id': '52fe44bfc3a36847f80a7cd1', 'de...</td>\n",
       "      <td>[{'id': 10090, 'name': 'board game'}, {'id': 1...</td>\n",
       "    </tr>\n",
       "    <tr>\n",
       "      <th>2</th>\n",
       "      <td>False</td>\n",
       "      <td>0</td>\n",
       "      <td>[{'id': 10749, 'name': 'Romance'}, {'id': 35, ...</td>\n",
       "      <td>15602</td>\n",
       "      <td>en</td>\n",
       "      <td>Grumpier Old Men</td>\n",
       "      <td>A family wedding reignites the ancient feud be...</td>\n",
       "      <td>11.7129</td>\n",
       "      <td>[{'name': 'Warner Bros.', 'id': 6194}, {'name'...</td>\n",
       "      <td>[{'iso_3166_1': 'US', 'name': 'United States o...</td>\n",
       "      <td>1995-12-22</td>\n",
       "      <td>0.0</td>\n",
       "      <td>101.0</td>\n",
       "      <td>[{'iso_639_1': 'en', 'name': 'English'}]</td>\n",
       "      <td>Still Yelling. Still Fighting. Still Ready for...</td>\n",
       "      <td>6.5</td>\n",
       "      <td>92.0</td>\n",
       "      <td>[{'cast_id': 2, 'character': 'Max Goldman', 'c...</td>\n",
       "      <td>[{'credit_id': '52fe466a9251416c75077a89', 'de...</td>\n",
       "      <td>[{'id': 1495, 'name': 'fishing'}, {'id': 12392...</td>\n",
       "    </tr>\n",
       "    <tr>\n",
       "      <th>3</th>\n",
       "      <td>False</td>\n",
       "      <td>16000000</td>\n",
       "      <td>[{'id': 35, 'name': 'Comedy'}, {'id': 18, 'nam...</td>\n",
       "      <td>31357</td>\n",
       "      <td>en</td>\n",
       "      <td>Waiting to Exhale</td>\n",
       "      <td>Cheated on, mistreated and stepped on, the wom...</td>\n",
       "      <td>3.859495</td>\n",
       "      <td>[{'name': 'Twentieth Century Fox Film Corporat...</td>\n",
       "      <td>[{'iso_3166_1': 'US', 'name': 'United States o...</td>\n",
       "      <td>1995-12-22</td>\n",
       "      <td>81452156.0</td>\n",
       "      <td>127.0</td>\n",
       "      <td>[{'iso_639_1': 'en', 'name': 'English'}]</td>\n",
       "      <td>Friends are the people who let you be yourself...</td>\n",
       "      <td>6.1</td>\n",
       "      <td>34.0</td>\n",
       "      <td>[{'cast_id': 1, 'character': \"Savannah 'Vannah...</td>\n",
       "      <td>[{'credit_id': '52fe44779251416c91011acb', 'de...</td>\n",
       "      <td>[{'id': 818, 'name': 'based on novel'}, {'id':...</td>\n",
       "    </tr>\n",
       "    <tr>\n",
       "      <th>4</th>\n",
       "      <td>False</td>\n",
       "      <td>0</td>\n",
       "      <td>[{'id': 35, 'name': 'Comedy'}]</td>\n",
       "      <td>11862</td>\n",
       "      <td>en</td>\n",
       "      <td>Father of the Bride Part II</td>\n",
       "      <td>Just when George Banks has recovered from his ...</td>\n",
       "      <td>8.387519</td>\n",
       "      <td>[{'name': 'Sandollar Productions', 'id': 5842}...</td>\n",
       "      <td>[{'iso_3166_1': 'US', 'name': 'United States o...</td>\n",
       "      <td>1995-02-10</td>\n",
       "      <td>76578911.0</td>\n",
       "      <td>106.0</td>\n",
       "      <td>[{'iso_639_1': 'en', 'name': 'English'}]</td>\n",
       "      <td>Just When His World Is Back To Normal... He's ...</td>\n",
       "      <td>5.7</td>\n",
       "      <td>173.0</td>\n",
       "      <td>[{'cast_id': 1, 'character': 'George Banks', '...</td>\n",
       "      <td>[{'credit_id': '52fe44959251416c75039ed7', 'de...</td>\n",
       "      <td>[{'id': 1009, 'name': 'baby'}, {'id': 1599, 'n...</td>\n",
       "    </tr>\n",
       "  </tbody>\n",
       "</table>\n",
       "</div>"
      ],
      "text/plain": [
       "   adult    budget                                             genres     id  \\\n",
       "0  False  30000000  [{'id': 16, 'name': 'Animation'}, {'id': 35, '...    862   \n",
       "1  False  65000000  [{'id': 12, 'name': 'Adventure'}, {'id': 14, '...   8844   \n",
       "2  False         0  [{'id': 10749, 'name': 'Romance'}, {'id': 35, ...  15602   \n",
       "3  False  16000000  [{'id': 35, 'name': 'Comedy'}, {'id': 18, 'nam...  31357   \n",
       "4  False         0                     [{'id': 35, 'name': 'Comedy'}]  11862   \n",
       "\n",
       "  original_language               original_title  \\\n",
       "0                en                    Toy Story   \n",
       "1                en                      Jumanji   \n",
       "2                en             Grumpier Old Men   \n",
       "3                en            Waiting to Exhale   \n",
       "4                en  Father of the Bride Part II   \n",
       "\n",
       "                                            overview popularity  \\\n",
       "0  Led by Woody, Andy's toys live happily in his ...  21.946943   \n",
       "1  When siblings Judy and Peter discover an encha...  17.015539   \n",
       "2  A family wedding reignites the ancient feud be...    11.7129   \n",
       "3  Cheated on, mistreated and stepped on, the wom...   3.859495   \n",
       "4  Just when George Banks has recovered from his ...   8.387519   \n",
       "\n",
       "                                production_companies  \\\n",
       "0     [{'name': 'Pixar Animation Studios', 'id': 3}]   \n",
       "1  [{'name': 'TriStar Pictures', 'id': 559}, {'na...   \n",
       "2  [{'name': 'Warner Bros.', 'id': 6194}, {'name'...   \n",
       "3  [{'name': 'Twentieth Century Fox Film Corporat...   \n",
       "4  [{'name': 'Sandollar Productions', 'id': 5842}...   \n",
       "\n",
       "                                production_countries release_date  \\\n",
       "0  [{'iso_3166_1': 'US', 'name': 'United States o...   1995-10-30   \n",
       "1  [{'iso_3166_1': 'US', 'name': 'United States o...   1995-12-15   \n",
       "2  [{'iso_3166_1': 'US', 'name': 'United States o...   1995-12-22   \n",
       "3  [{'iso_3166_1': 'US', 'name': 'United States o...   1995-12-22   \n",
       "4  [{'iso_3166_1': 'US', 'name': 'United States o...   1995-02-10   \n",
       "\n",
       "       revenue  runtime                                   spoken_languages  \\\n",
       "0  373554033.0     81.0           [{'iso_639_1': 'en', 'name': 'English'}]   \n",
       "1  262797249.0    104.0  [{'iso_639_1': 'en', 'name': 'English'}, {'iso...   \n",
       "2          0.0    101.0           [{'iso_639_1': 'en', 'name': 'English'}]   \n",
       "3   81452156.0    127.0           [{'iso_639_1': 'en', 'name': 'English'}]   \n",
       "4   76578911.0    106.0           [{'iso_639_1': 'en', 'name': 'English'}]   \n",
       "\n",
       "                                             tagline  vote_average  \\\n",
       "0                                                NaN           7.7   \n",
       "1          Roll the dice and unleash the excitement!           6.9   \n",
       "2  Still Yelling. Still Fighting. Still Ready for...           6.5   \n",
       "3  Friends are the people who let you be yourself...           6.1   \n",
       "4  Just When His World Is Back To Normal... He's ...           5.7   \n",
       "\n",
       "   vote_count                                               cast  \\\n",
       "0      5415.0  [{'cast_id': 14, 'character': 'Woody (voice)',...   \n",
       "1      2413.0  [{'cast_id': 1, 'character': 'Alan Parrish', '...   \n",
       "2        92.0  [{'cast_id': 2, 'character': 'Max Goldman', 'c...   \n",
       "3        34.0  [{'cast_id': 1, 'character': \"Savannah 'Vannah...   \n",
       "4       173.0  [{'cast_id': 1, 'character': 'George Banks', '...   \n",
       "\n",
       "                                                crew  \\\n",
       "0  [{'credit_id': '52fe4284c3a36847f8024f49', 'de...   \n",
       "1  [{'credit_id': '52fe44bfc3a36847f80a7cd1', 'de...   \n",
       "2  [{'credit_id': '52fe466a9251416c75077a89', 'de...   \n",
       "3  [{'credit_id': '52fe44779251416c91011acb', 'de...   \n",
       "4  [{'credit_id': '52fe44959251416c75039ed7', 'de...   \n",
       "\n",
       "                                            keywords  \n",
       "0  [{'id': 931, 'name': 'jealousy'}, {'id': 4290,...  \n",
       "1  [{'id': 10090, 'name': 'board game'}, {'id': 1...  \n",
       "2  [{'id': 1495, 'name': 'fishing'}, {'id': 12392...  \n",
       "3  [{'id': 818, 'name': 'based on novel'}, {'id':...  \n",
       "4  [{'id': 1009, 'name': 'baby'}, {'id': 1599, 'n...  "
      ]
     },
     "execution_count": 43,
     "metadata": {},
     "output_type": "execute_result"
    }
   ],
   "source": [
    "# Merge movies, credits, and keywords DataFrames based on 'id'\n",
    "movies = movies.merge(credits, on='id')\n",
    "movies = movies.merge(keywords, on='id')\n",
    "movies.head()"
   ]
  },
  {
   "cell_type": "markdown",
   "id": "963a95f0-a7b4-40ca-aa81-da653a2239af",
   "metadata": {},
   "source": [
    "### Filter Relevant Columns\n",
    "Only the movies with 'id' values present in the 'tmdbId' column of the 'links' DataFrame are selected:"
   ]
  },
  {
   "cell_type": "code",
   "execution_count": 44,
   "id": "3e7ae806-e3f3-470f-9a14-e0283a57e9d8",
   "metadata": {},
   "outputs": [],
   "source": [
    "# Filter the relevant columns\n",
    "filtered_meta_data = movies[movies['id'].isin(links['tmdbId'])].copy()"
   ]
  },
  {
   "cell_type": "code",
   "execution_count": 45,
   "id": "077c2d93-d1f4-487e-a99c-1af6bc7b997f",
   "metadata": {},
   "outputs": [
    {
     "data": {
      "text/html": [
       "<div>\n",
       "<style scoped>\n",
       "    .dataframe tbody tr th:only-of-type {\n",
       "        vertical-align: middle;\n",
       "    }\n",
       "\n",
       "    .dataframe tbody tr th {\n",
       "        vertical-align: top;\n",
       "    }\n",
       "\n",
       "    .dataframe thead th {\n",
       "        text-align: right;\n",
       "    }\n",
       "</style>\n",
       "<table border=\"1\" class=\"dataframe\">\n",
       "  <thead>\n",
       "    <tr style=\"text-align: right;\">\n",
       "      <th></th>\n",
       "      <th>adult</th>\n",
       "      <th>budget</th>\n",
       "      <th>genres</th>\n",
       "      <th>id</th>\n",
       "      <th>original_language</th>\n",
       "      <th>original_title</th>\n",
       "      <th>overview</th>\n",
       "      <th>popularity</th>\n",
       "      <th>production_companies</th>\n",
       "      <th>production_countries</th>\n",
       "      <th>release_date</th>\n",
       "      <th>revenue</th>\n",
       "      <th>runtime</th>\n",
       "      <th>spoken_languages</th>\n",
       "      <th>tagline</th>\n",
       "      <th>vote_average</th>\n",
       "      <th>vote_count</th>\n",
       "      <th>cast</th>\n",
       "      <th>crew</th>\n",
       "      <th>keywords</th>\n",
       "    </tr>\n",
       "  </thead>\n",
       "  <tbody>\n",
       "    <tr>\n",
       "      <th>0</th>\n",
       "      <td>False</td>\n",
       "      <td>30000000</td>\n",
       "      <td>[{'id': 16, 'name': 'Animation'}, {'id': 35, '...</td>\n",
       "      <td>862</td>\n",
       "      <td>en</td>\n",
       "      <td>Toy Story</td>\n",
       "      <td>Led by Woody, Andy's toys live happily in his ...</td>\n",
       "      <td>21.946943</td>\n",
       "      <td>[{'name': 'Pixar Animation Studios', 'id': 3}]</td>\n",
       "      <td>[{'iso_3166_1': 'US', 'name': 'United States o...</td>\n",
       "      <td>1995-10-30</td>\n",
       "      <td>373554033.0</td>\n",
       "      <td>81.0</td>\n",
       "      <td>[{'iso_639_1': 'en', 'name': 'English'}]</td>\n",
       "      <td>NaN</td>\n",
       "      <td>7.7</td>\n",
       "      <td>5415.0</td>\n",
       "      <td>[{'cast_id': 14, 'character': 'Woody (voice)',...</td>\n",
       "      <td>[{'credit_id': '52fe4284c3a36847f8024f49', 'de...</td>\n",
       "      <td>[{'id': 931, 'name': 'jealousy'}, {'id': 4290,...</td>\n",
       "    </tr>\n",
       "    <tr>\n",
       "      <th>1</th>\n",
       "      <td>False</td>\n",
       "      <td>65000000</td>\n",
       "      <td>[{'id': 12, 'name': 'Adventure'}, {'id': 14, '...</td>\n",
       "      <td>8844</td>\n",
       "      <td>en</td>\n",
       "      <td>Jumanji</td>\n",
       "      <td>When siblings Judy and Peter discover an encha...</td>\n",
       "      <td>17.015539</td>\n",
       "      <td>[{'name': 'TriStar Pictures', 'id': 559}, {'na...</td>\n",
       "      <td>[{'iso_3166_1': 'US', 'name': 'United States o...</td>\n",
       "      <td>1995-12-15</td>\n",
       "      <td>262797249.0</td>\n",
       "      <td>104.0</td>\n",
       "      <td>[{'iso_639_1': 'en', 'name': 'English'}, {'iso...</td>\n",
       "      <td>Roll the dice and unleash the excitement!</td>\n",
       "      <td>6.9</td>\n",
       "      <td>2413.0</td>\n",
       "      <td>[{'cast_id': 1, 'character': 'Alan Parrish', '...</td>\n",
       "      <td>[{'credit_id': '52fe44bfc3a36847f80a7cd1', 'de...</td>\n",
       "      <td>[{'id': 10090, 'name': 'board game'}, {'id': 1...</td>\n",
       "    </tr>\n",
       "    <tr>\n",
       "      <th>2</th>\n",
       "      <td>False</td>\n",
       "      <td>0</td>\n",
       "      <td>[{'id': 10749, 'name': 'Romance'}, {'id': 35, ...</td>\n",
       "      <td>15602</td>\n",
       "      <td>en</td>\n",
       "      <td>Grumpier Old Men</td>\n",
       "      <td>A family wedding reignites the ancient feud be...</td>\n",
       "      <td>11.7129</td>\n",
       "      <td>[{'name': 'Warner Bros.', 'id': 6194}, {'name'...</td>\n",
       "      <td>[{'iso_3166_1': 'US', 'name': 'United States o...</td>\n",
       "      <td>1995-12-22</td>\n",
       "      <td>0.0</td>\n",
       "      <td>101.0</td>\n",
       "      <td>[{'iso_639_1': 'en', 'name': 'English'}]</td>\n",
       "      <td>Still Yelling. Still Fighting. Still Ready for...</td>\n",
       "      <td>6.5</td>\n",
       "      <td>92.0</td>\n",
       "      <td>[{'cast_id': 2, 'character': 'Max Goldman', 'c...</td>\n",
       "      <td>[{'credit_id': '52fe466a9251416c75077a89', 'de...</td>\n",
       "      <td>[{'id': 1495, 'name': 'fishing'}, {'id': 12392...</td>\n",
       "    </tr>\n",
       "    <tr>\n",
       "      <th>3</th>\n",
       "      <td>False</td>\n",
       "      <td>16000000</td>\n",
       "      <td>[{'id': 35, 'name': 'Comedy'}, {'id': 18, 'nam...</td>\n",
       "      <td>31357</td>\n",
       "      <td>en</td>\n",
       "      <td>Waiting to Exhale</td>\n",
       "      <td>Cheated on, mistreated and stepped on, the wom...</td>\n",
       "      <td>3.859495</td>\n",
       "      <td>[{'name': 'Twentieth Century Fox Film Corporat...</td>\n",
       "      <td>[{'iso_3166_1': 'US', 'name': 'United States o...</td>\n",
       "      <td>1995-12-22</td>\n",
       "      <td>81452156.0</td>\n",
       "      <td>127.0</td>\n",
       "      <td>[{'iso_639_1': 'en', 'name': 'English'}]</td>\n",
       "      <td>Friends are the people who let you be yourself...</td>\n",
       "      <td>6.1</td>\n",
       "      <td>34.0</td>\n",
       "      <td>[{'cast_id': 1, 'character': \"Savannah 'Vannah...</td>\n",
       "      <td>[{'credit_id': '52fe44779251416c91011acb', 'de...</td>\n",
       "      <td>[{'id': 818, 'name': 'based on novel'}, {'id':...</td>\n",
       "    </tr>\n",
       "    <tr>\n",
       "      <th>4</th>\n",
       "      <td>False</td>\n",
       "      <td>0</td>\n",
       "      <td>[{'id': 35, 'name': 'Comedy'}]</td>\n",
       "      <td>11862</td>\n",
       "      <td>en</td>\n",
       "      <td>Father of the Bride Part II</td>\n",
       "      <td>Just when George Banks has recovered from his ...</td>\n",
       "      <td>8.387519</td>\n",
       "      <td>[{'name': 'Sandollar Productions', 'id': 5842}...</td>\n",
       "      <td>[{'iso_3166_1': 'US', 'name': 'United States o...</td>\n",
       "      <td>1995-02-10</td>\n",
       "      <td>76578911.0</td>\n",
       "      <td>106.0</td>\n",
       "      <td>[{'iso_639_1': 'en', 'name': 'English'}]</td>\n",
       "      <td>Just When His World Is Back To Normal... He's ...</td>\n",
       "      <td>5.7</td>\n",
       "      <td>173.0</td>\n",
       "      <td>[{'cast_id': 1, 'character': 'George Banks', '...</td>\n",
       "      <td>[{'credit_id': '52fe44959251416c75039ed7', 'de...</td>\n",
       "      <td>[{'id': 1009, 'name': 'baby'}, {'id': 1599, 'n...</td>\n",
       "    </tr>\n",
       "  </tbody>\n",
       "</table>\n",
       "</div>"
      ],
      "text/plain": [
       "   adult    budget                                             genres     id  \\\n",
       "0  False  30000000  [{'id': 16, 'name': 'Animation'}, {'id': 35, '...    862   \n",
       "1  False  65000000  [{'id': 12, 'name': 'Adventure'}, {'id': 14, '...   8844   \n",
       "2  False         0  [{'id': 10749, 'name': 'Romance'}, {'id': 35, ...  15602   \n",
       "3  False  16000000  [{'id': 35, 'name': 'Comedy'}, {'id': 18, 'nam...  31357   \n",
       "4  False         0                     [{'id': 35, 'name': 'Comedy'}]  11862   \n",
       "\n",
       "  original_language               original_title  \\\n",
       "0                en                    Toy Story   \n",
       "1                en                      Jumanji   \n",
       "2                en             Grumpier Old Men   \n",
       "3                en            Waiting to Exhale   \n",
       "4                en  Father of the Bride Part II   \n",
       "\n",
       "                                            overview popularity  \\\n",
       "0  Led by Woody, Andy's toys live happily in his ...  21.946943   \n",
       "1  When siblings Judy and Peter discover an encha...  17.015539   \n",
       "2  A family wedding reignites the ancient feud be...    11.7129   \n",
       "3  Cheated on, mistreated and stepped on, the wom...   3.859495   \n",
       "4  Just when George Banks has recovered from his ...   8.387519   \n",
       "\n",
       "                                production_companies  \\\n",
       "0     [{'name': 'Pixar Animation Studios', 'id': 3}]   \n",
       "1  [{'name': 'TriStar Pictures', 'id': 559}, {'na...   \n",
       "2  [{'name': 'Warner Bros.', 'id': 6194}, {'name'...   \n",
       "3  [{'name': 'Twentieth Century Fox Film Corporat...   \n",
       "4  [{'name': 'Sandollar Productions', 'id': 5842}...   \n",
       "\n",
       "                                production_countries release_date  \\\n",
       "0  [{'iso_3166_1': 'US', 'name': 'United States o...   1995-10-30   \n",
       "1  [{'iso_3166_1': 'US', 'name': 'United States o...   1995-12-15   \n",
       "2  [{'iso_3166_1': 'US', 'name': 'United States o...   1995-12-22   \n",
       "3  [{'iso_3166_1': 'US', 'name': 'United States o...   1995-12-22   \n",
       "4  [{'iso_3166_1': 'US', 'name': 'United States o...   1995-02-10   \n",
       "\n",
       "       revenue  runtime                                   spoken_languages  \\\n",
       "0  373554033.0     81.0           [{'iso_639_1': 'en', 'name': 'English'}]   \n",
       "1  262797249.0    104.0  [{'iso_639_1': 'en', 'name': 'English'}, {'iso...   \n",
       "2          0.0    101.0           [{'iso_639_1': 'en', 'name': 'English'}]   \n",
       "3   81452156.0    127.0           [{'iso_639_1': 'en', 'name': 'English'}]   \n",
       "4   76578911.0    106.0           [{'iso_639_1': 'en', 'name': 'English'}]   \n",
       "\n",
       "                                             tagline  vote_average  \\\n",
       "0                                                NaN           7.7   \n",
       "1          Roll the dice and unleash the excitement!           6.9   \n",
       "2  Still Yelling. Still Fighting. Still Ready for...           6.5   \n",
       "3  Friends are the people who let you be yourself...           6.1   \n",
       "4  Just When His World Is Back To Normal... He's ...           5.7   \n",
       "\n",
       "   vote_count                                               cast  \\\n",
       "0      5415.0  [{'cast_id': 14, 'character': 'Woody (voice)',...   \n",
       "1      2413.0  [{'cast_id': 1, 'character': 'Alan Parrish', '...   \n",
       "2        92.0  [{'cast_id': 2, 'character': 'Max Goldman', 'c...   \n",
       "3        34.0  [{'cast_id': 1, 'character': \"Savannah 'Vannah...   \n",
       "4       173.0  [{'cast_id': 1, 'character': 'George Banks', '...   \n",
       "\n",
       "                                                crew  \\\n",
       "0  [{'credit_id': '52fe4284c3a36847f8024f49', 'de...   \n",
       "1  [{'credit_id': '52fe44bfc3a36847f80a7cd1', 'de...   \n",
       "2  [{'credit_id': '52fe466a9251416c75077a89', 'de...   \n",
       "3  [{'credit_id': '52fe44779251416c91011acb', 'de...   \n",
       "4  [{'credit_id': '52fe44959251416c75039ed7', 'de...   \n",
       "\n",
       "                                            keywords  \n",
       "0  [{'id': 931, 'name': 'jealousy'}, {'id': 4290,...  \n",
       "1  [{'id': 10090, 'name': 'board game'}, {'id': 1...  \n",
       "2  [{'id': 1495, 'name': 'fishing'}, {'id': 12392...  \n",
       "3  [{'id': 818, 'name': 'based on novel'}, {'id':...  \n",
       "4  [{'id': 1009, 'name': 'baby'}, {'id': 1599, 'n...  "
      ]
     },
     "execution_count": 45,
     "metadata": {},
     "output_type": "execute_result"
    }
   ],
   "source": [
    "filtered_meta_data.head()"
   ]
  },
  {
   "cell_type": "markdown",
   "id": "58934af3-4bf1-4e9a-be07-d176d7520d23",
   "metadata": {},
   "source": [
    "### Apply literal_eval\n",
    "The 'cast', 'crew', and 'keywords' columns in the 'filtered_meta_data' DataFrame are transformed using literal_eval to convert string representations into actual lists:"
   ]
  },
  {
   "cell_type": "code",
   "execution_count": 46,
   "id": "609c0678-b10d-41f4-8f98-cfe11e182a7d",
   "metadata": {},
   "outputs": [],
   "source": [
    "# Apply literal_eval to 'cast', 'crew', and 'keywords' columns\n",
    "filtered_meta_data['cast'] = filtered_meta_data['cast'].apply(literal_eval)\n",
    "filtered_meta_data['crew'] = filtered_meta_data['crew'].apply(literal_eval)\n",
    "filtered_meta_data['keywords'] = filtered_meta_data['keywords'].apply(ast.literal_eval)"
   ]
  },
  {
   "cell_type": "markdown",
   "id": "e136e40a-3102-4b34-b24d-5affaa1992e9",
   "metadata": {},
   "source": [
    "### Extract Director's Name, Cast, and Keywords\n",
    "The code defines a function to extract the director's name from the crew list:\n",
    "- The function is then applied to the **crew** column to extract the director's name, which is converted to lowercase and spaces are removed. The resulting names are stored in the **director** column.\n",
    "- The top three cast members are extracted from the **cast** column, converted to lowercase, and spaces are removed. The resulting names are stored in the **cast** column.\n",
    "- The keywords are stemmed using the SnowballStemmer, converted to lowercase, and spaces are removed. The resulting keywords are stored in the **keywords** column."
   ]
  },
  {
   "cell_type": "code",
   "execution_count": 47,
   "id": "8012ce8e-b9f0-44d7-b25b-46410c923fcf",
   "metadata": {},
   "outputs": [],
   "source": [
    "# Function to extract director's name from crew\n",
    "def get_director(crew):\n",
    "    \"\"\"\n",
    "    Extracts the director's name from the crew list.\n",
    "\n",
    "    Parameters:\n",
    "        crew (list): List of crew members and their roles in the movie.\n",
    "\n",
    "    Returns:\n",
    "        str or np.nan: The director's name if found in the crew list, or np.nan if not found.\n",
    "    \"\"\"\n",
    "    for member in crew:\n",
    "        if member['job'] == 'Director':\n",
    "            return member['name']\n",
    "    return np.nan\n"
   ]
  },
  {
   "cell_type": "markdown",
   "id": "f7485916-f81a-4fe6-b372-ed7aefa17ff5",
   "metadata": {},
   "source": [
    "### Extract Director's Name\n",
    "The function **get_director(crew)** is applied to the **crew** column to extract the director's name. The resulting names are then converted to lowercase and spaces are removed:"
   ]
  },
  {
   "cell_type": "code",
   "execution_count": 48,
   "id": "c4e45b3d-33f9-4d84-adbb-629138661945",
   "metadata": {},
   "outputs": [],
   "source": [
    "# Extract director's name, lowercase and remove spaces\n",
    "filtered_meta_data['director'] = filtered_meta_data['crew'].apply(get_director)\n",
    "filtered_meta_data['director'] = filtered_meta_data['director'].astype('str').str.lower().str.replace(\" \", \"\")\n",
    "filtered_meta_data['director'] = filtered_meta_data['director'].apply(lambda x: [x, x, x])"
   ]
  },
  {
   "cell_type": "markdown",
   "id": "52d4affe-a924-40b1-8a13-0ad9cce2a873",
   "metadata": {},
   "source": [
    "### Extract Top 3 Cast Members\n",
    "For each movie in the **cast** column, the names of the cast members are extracted using a list comprehension. If there are more than three cast members, only the first three are selected. The resulting names are then converted to lowercase and spaces are removed:"
   ]
  },
  {
   "cell_type": "code",
   "execution_count": 49,
   "id": "e6a15f01-b0ca-478d-955a-b09e5e6e9ce0",
   "metadata": {},
   "outputs": [],
   "source": [
    "# Extract top 3 cast members, lowercase, and remove spaces\n",
    "filtered_meta_data['cast'] = filtered_meta_data['cast'].apply(lambda x: [i['name'] for i in x])\n",
    "filtered_meta_data['cast'] = filtered_meta_data['cast'].apply(lambda x: x[:3] if len(x) >= 3 else x)\n",
    "filtered_meta_data['cast'] = filtered_meta_data['cast'].apply(lambda x: [str.lower(i.replace(\" \", \"\")) for i in x])"
   ]
  },
  {
   "cell_type": "markdown",
   "id": "f25576f9-d09a-4c35-b346-df29f26c7016",
   "metadata": {},
   "source": [
    "### Stem Keywords\n",
    "The keywords in the **keywords** column are stemmed using the SnowballStemmer from the NLTK library. The stemming process reduces words to their base or root form. The resulting stems are then converted to lowercase and spaces are removed:"
   ]
  },
  {
   "cell_type": "code",
   "execution_count": 50,
   "id": "fc8c6ef0-0728-4635-a29a-4ad141296046",
   "metadata": {},
   "outputs": [],
   "source": [
    "# Stem keywords, lowercase, and remove spaces\n",
    "filtered_meta_data['keywords'] = filtered_meta_data['keywords'].apply(lambda x: [SnowballStemmer('english').stem(i['name']) for i in x])\n",
    "filtered_meta_data['keywords'] = filtered_meta_data['keywords'].apply(lambda x: [str.lower(i.replace(\" \", \"\")) for i in x])"
   ]
  },
  {
   "cell_type": "markdown",
   "id": "bf2c44fc-4324-4ae3-9530-6bad91af2817",
   "metadata": {},
   "source": [
    "### Combine Features into 'soup' Column\n",
    "The **director**, **cast**, and **keywords** columns are combined into a single **soup** column:"
   ]
  },
  {
   "cell_type": "code",
   "execution_count": 51,
   "id": "6310599f-a092-4d09-8cbd-f1283491f5cf",
   "metadata": {},
   "outputs": [],
   "source": [
    "# Combine all features into 'soup' column\n",
    "filtered_meta_data['soup'] = filtered_meta_data['director'] + filtered_meta_data['cast'] + filtered_meta_data['keywords']"
   ]
  },
  {
   "cell_type": "markdown",
   "id": "0bcb137b-dbf4-404b-af77-a7b4a121bc43",
   "metadata": {},
   "source": [
    "### Convert 'soup' Column to String and Create CountVectorizer\n",
    "The **soup** column, which contains a combination of features, is converted from a list to a string:"
   ]
  },
  {
   "cell_type": "code",
   "execution_count": 52,
   "id": "d3135a30-3fe4-40ed-bd8f-cd5e8280c0d1",
   "metadata": {},
   "outputs": [],
   "source": [
    "# Convert the 'soup' column from list to string\n",
    "filtered_meta_data['soup'] = filtered_meta_data['soup'].apply(lambda x: ' '.join(x))"
   ]
  },
  {
   "cell_type": "markdown",
   "id": "e975678e-61f5-425e-b244-fe277a59aaef",
   "metadata": {},
   "source": [
    "A CountVectorizer is initialized to transform the **soup** column into a matrix of token counts:"
   ]
  },
  {
   "cell_type": "code",
   "execution_count": 53,
   "id": "83e568ef-8154-4232-bb7f-f21323514cae",
   "metadata": {},
   "outputs": [],
   "source": [
    "# Initialize CountVectorizer\n",
    "count_vectorizer = CountVectorizer()"
   ]
  },
  {
   "cell_type": "markdown",
   "id": "cdb212f6-1433-4ad6-b82c-841db0c47597",
   "metadata": {},
   "source": [
    "## Fit-Transform the 'soup' Column and Compute Cosine Similarity\n",
    "The **soup** column is fit-transformed using the CountVectorizer:"
   ]
  },
  {
   "cell_type": "code",
   "execution_count": 54,
   "id": "18b3dc98-86b7-4fe5-b953-4c78f67af99e",
   "metadata": {},
   "outputs": [],
   "source": [
    "# Fit-transform the 'soup' column\n",
    "soup_features = count_vectorizer.fit_transform(filtered_meta_data['soup'])"
   ]
  },
  {
   "cell_type": "markdown",
   "id": "238941e9-2e5c-4847-81f3-d60540312b17",
   "metadata": {},
   "source": [
    "The cosine similarity matrix is computed based on the transformed features:\n",
    "- This matrix represents the similarity between movies based on their combined features."
   ]
  },
  {
   "cell_type": "code",
   "execution_count": 55,
   "id": "39f1e34e-a8c7-4de9-bd67-ea88643595c6",
   "metadata": {},
   "outputs": [],
   "source": [
    "# Compute the cosine similarity matrix\n",
    "cosine_sim = cosine_similarity(soup_features)"
   ]
  },
  {
   "cell_type": "markdown",
   "id": "e1d202dc-6206-4443-90c5-40edf4472ce9",
   "metadata": {},
   "source": [
    "### Building the Annoy Index"
   ]
  },
  {
   "cell_type": "markdown",
   "id": "47b12d19-ef35-4af4-b7ff-f423c849be43",
   "metadata": {},
   "source": [
    "The code section initializes and builds an Annoy index to enable efficient retrieval of nearest neighbors based on cosine similarity. The Annoy library is used for approximate nearest neighbor search.\n",
    "\n",
    "1. **Initialize the Annoy index:** An Annoy index is created with the number of items in the cosine similarity matrix. The 'angular' metric is used to measure the similarity between items.\n",
    "\n",
    "2. **Add items in batches:** To optimize memory usage and processing time, items are added to the Annoy index in batches. The `batch_size` determines the number of items processed in each batch. This approach is particularly useful for large datasets.\n",
    "\n",
    "3. **Build the index:** After adding all the items to the index, it is built with a specified number of trees. In this case, 10 trees are constructed. The number of trees affects the trade-off between search speed and accuracy. A higher number of trees generally improves accuracy but increases search time.\n",
    "\n",
    "By constructing the Annoy index, the code significantly improves the efficiency of finding similar items based on cosine similarity. This optimization is particularly beneficial when dealing with large datasets, allowing for faster and more scalable recommendation generation.\n"
   ]
  },
  {
   "cell_type": "code",
   "execution_count": 56,
   "id": "d91054b9-1447-494e-927b-783828352b28",
   "metadata": {},
   "outputs": [
    {
     "data": {
      "text/plain": [
       "True"
      ]
     },
     "execution_count": 56,
     "metadata": {},
     "output_type": "execute_result"
    }
   ],
   "source": [
    "# Initialize the Annoy index\n",
    "annoy_index = AnnoyIndex(cosine_sim.shape[0], 'angular')\n",
    "\n",
    "# Add items in batches\n",
    "batch_size = 1000\n",
    "num_items = cosine_sim.shape[0]\n",
    "\n",
    "for i in range(0, num_items, batch_size):\n",
    "    end_index = min(i + batch_size, num_items)\n",
    "    batch = cosine_sim[i:end_index]\n",
    "    \n",
    "    for j in range(len(batch)):\n",
    "        annoy_index.add_item(i + j, batch[j])\n",
    "    \n",
    "# Build the index\n",
    "annoy_index.build(10)  # 10 trees for the index"
   ]
  },
  {
   "cell_type": "markdown",
   "id": "a2a47e32-3103-4da0-8c1a-aa59e8468b22",
   "metadata": {},
   "source": [
    "### Generating Movie Recommendations\n",
    "\n",
    "The code defines a function called **predict_recommendations** to generate movie recommendations based on an input movie title. The function follows these steps:\n",
    "1. It checks if the input movie title exists in the **original_title** column of the filtered_meta_data DataFrame.\n",
    "2. If the title exists, it retrieves the index of the input movie by finding its location in the **filtered_meta_data** DataFrame.\n",
    "3. Using the Annoy index, the function finds the approximate nearest neighbors to the input movie based on their cosine similarity scores.\n",
    "4. The recommended movies are obtained by selecting the corresponding rows from the **filtered_meta_data** DataFrame using the indices. Initially, only the 'original_title' column is selected.\n",
    "5. The final score is calculated by copying the similarity score. In this case, the similarity score and the final score are the same.\n",
    "6. The DataFrame of recommended movies is sorted in descending order based on the final score.\n",
    "7. The function returns the DataFrame containing the recommended movies, their similarity scores, and the final scores."
   ]
  },
  {
   "cell_type": "code",
   "execution_count": 57,
   "id": "248aa163-6b80-427a-a8c0-c9c683da6783",
   "metadata": {},
   "outputs": [],
   "source": [
    "def predict_recommendations(title, top_n=10):\n",
    "    \"\"\"\n",
    "    Generate movie recommendations based on the input movie title.\n",
    "\n",
    "    Parameters:\n",
    "        title (str): The title of the input movie.\n",
    "        top_n (int): The number of recommendations to return. Default is 10.\n",
    "\n",
    "    Returns:\n",
    "        pandas.DataFrame: A DataFrame containing the recommended movies, their similarity scores,\n",
    "                          and the final scores.\n",
    "    \"\"\"\n",
    "    # Check if the title exists\n",
    "    if title not in filtered_meta_data['original_title'].values:\n",
    "        print(f\"The movie '{title}' was not found in the data.\")\n",
    "        return pd.DataFrame(columns=['original_title', 'similarity', 'final_score'])\n",
    "\n",
    "    # Get the index of the input movie\n",
    "    movie_index = filtered_meta_data[filtered_meta_data['original_title'] == title].index[0]\n",
    "\n",
    "    # Find the approximate nearest neighbors\n",
    "    indices = annoy_index.get_nns_by_item(movie_index, top_n, search_k=-1)\n",
    "\n",
    "    # Get the recommended movies based on the indices\n",
    "    recommended_movies = filtered_meta_data.iloc[indices][['original_title']]\n",
    "    recommended_movies['similarity'] = cosine_sim[movie_index][indices]\n",
    "\n",
    "    # Calculate the final score by copying the similarity score\n",
    "    recommended_movies['final_score'] = recommended_movies['similarity']\n",
    "\n",
    "    # Sort the DataFrame by the final score in descending order\n",
    "    recommended_movies = recommended_movies.sort_values(by='final_score', ascending=False)\n",
    "\n",
    "    return recommended_movies[['original_title', 'similarity', 'final_score']]"
   ]
  },
  {
   "cell_type": "markdown",
   "id": "e4dea89a-4490-4d56-be16-9ea20bc10b55",
   "metadata": {},
   "source": [
    "### Example Usage"
   ]
  },
  {
   "cell_type": "code",
   "execution_count": 58,
   "id": "5c6e305b-ab99-4977-a1fc-720b50967e23",
   "metadata": {},
   "outputs": [
    {
     "name": "stdout",
     "output_type": "stream",
     "text": [
      "                         original_title  similarity  final_score\n",
      "12589                   The Dark Knight    1.000000     1.000000\n",
      "18442             The Dark Knight Rises    0.616041     0.616041\n",
      "10210                     Batman Begins    0.575197     0.575197\n",
      "26110                         Doodlebug    0.466628     0.466628\n",
      "26111                         Doodlebug    0.466628     0.466628\n",
      "11463                      The Prestige    0.411953     0.411953\n",
      "15651                         Inception    0.352738     0.352738\n",
      "15682        Batman: Under the Red Hood    0.246564     0.246564\n",
      "12569  Justice League: The New Frontier    0.179605     0.179605\n",
      "23389                     Son of Batman    0.164817     0.164817\n"
     ]
    }
   ],
   "source": [
    "# Get movie recommendations for \"The Dark Knight\"\n",
    "movie_title = \"The Dark Knight\"\n",
    "\n",
    "# The predict_recommendations function is called to generate recommendations based on the input movie title.\n",
    "recommendations = predict_recommendations(movie_title)\n",
    "\n",
    "# Print the recommendations\n",
    "print(recommendations)"
   ]
  },
  {
   "cell_type": "markdown",
   "id": "c02a5781-9aad-45a6-b62a-1f777e40b021",
   "metadata": {},
   "source": [
    "## Movie Recommendation using Collaborative Filtering with TensorFlow Recommenders\n",
    "In this code, we explore the implementation of collaborative filtering with TensorFlow Recommenders (TFRS) to generate movie recommendations. Collaborative filtering is a technique widely used in recommendation systems to provide personalized suggestions based on user behavior and item similarities.\n",
    "\n",
    "### Objective\n",
    "The main goal of this code is to leverage user ratings and movie information to create a model that can predict ratings for unseen movies. By analyzing the patterns and preferences of users, the model can generate recommendations for movies that are likely to be of interest to individual users.\n",
    "\n",
    "### Code Overview\n",
    "The code can be divided into the following key steps:\n",
    "\n",
    "1. **Data Preparation**: The movie and rating information is loaded into separate DataFrames. These DataFrames are then merged based on the common movie ID. Relevant columns, such as user ID, movie ID, rating, original title, and genres, are selected for further processing.\n",
    "\n",
    "2. **Data Splitting**: The user IDs are split into training and test sets. The data is divided in such a way that a portion of the ratings for each user is allocated for training, while the remaining ratings are used for testing the model's performance.\n",
    "\n",
    "3. **Dataset Creation**: The training and test data are converted into TensorFlow Datasets, which are efficient data structures for training machine learning models. Batching and shuffling are applied to the Datasets to enhance the training process.\n",
    "\n",
    "4. **Model Definition**: A ranking model is defined using TensorFlow's Keras API. This model incorporates user and movie embeddings to capture latent features. Dense layers are utilized to compute predictions based on the learned embeddings.\n",
    "\n",
    "5. **Model Training**: The ranking model is trained using the training Dataset. The model is optimized by minimizing the mean squared error loss function. The training process iterates for a specified number of epochs, refining the model's ability to predict movie ratings.\n",
    "\n",
    "6. **Model Evaluation**: The trained model is evaluated on the test Dataset to assess its performance. The evaluation metrics, such as mean squared error and root mean squared error, provide insights into how well the model generalizes to unseen data.\n",
    "\n",
    "7. **Movie Recommendations**: A function called **recommend_movies()** is implemented to generate personalized movie recommendations for a given user. The function utilizes the trained model to predict ratings for all movies. The top-rated movies are then selected as recommendations based on the user's preferences.\n",
    "\n",
    "### Conclusion\n",
    "Collaborative filtering, as implemented in this code, enables the creation of personalized movie recommendation systems. By analyzing user ratings and leveraging the power of machine learning models, such as the one implemented here using TFRS, it becomes possible to provide users with tailored movie recommendations based on their unique preferences. This approach has wide applications in the field of recommendation systems and can be extended to various domains beyond movies."
   ]
  },
  {
   "cell_type": "markdown",
   "id": "cdb3e68f-ad45-4252-b02c-21909b3cae04",
   "metadata": {},
   "source": [
    "### Data Preparation\n",
    "The code starts by printing information about the movies and ratings DataFrames using the **info()** method of pandas DataFrame:"
   ]
  },
  {
   "cell_type": "code",
   "execution_count": 59,
   "id": "4408bb52-0008-4bbf-8fa9-4fff25ac2645",
   "metadata": {},
   "outputs": [
    {
     "name": "stdout",
     "output_type": "stream",
     "text": [
      "Information about movies:\n",
      "<class 'pandas.core.frame.DataFrame'>\n",
      "RangeIndex: 42373 entries, 0 to 42372\n",
      "Data columns (total 23 columns):\n",
      " #   Column                Non-Null Count  Dtype         \n",
      "---  ------                --------------  -----         \n",
      " 0   adult                 42373 non-null  object        \n",
      " 1   budget                42373 non-null  object        \n",
      " 2   genres                42373 non-null  object        \n",
      " 3   id                    42373 non-null  int64         \n",
      " 4   original_language     42373 non-null  object        \n",
      " 5   original_title        42373 non-null  object        \n",
      " 6   overview              42373 non-null  object        \n",
      " 7   popularity            42373 non-null  object        \n",
      " 8   production_companies  42373 non-null  object        \n",
      " 9   production_countries  42373 non-null  object        \n",
      " 10  release_date          42373 non-null  datetime64[ns]\n",
      " 11  revenue               42373 non-null  float64       \n",
      " 12  runtime               42373 non-null  float64       \n",
      " 13  spoken_languages      42373 non-null  object        \n",
      " 14  tagline               42373 non-null  object        \n",
      " 15  vote_average          42373 non-null  float64       \n",
      " 16  vote_count            42373 non-null  float64       \n",
      " 17  keywords              42373 non-null  object        \n",
      " 18  crew                  42373 non-null  object        \n",
      " 19  characters            42373 non-null  object        \n",
      " 20  actors                42373 non-null  object        \n",
      " 21  year                  42373 non-null  int32         \n",
      " 22  weighted_average      42373 non-null  float64       \n",
      "dtypes: datetime64[ns](1), float64(5), int32(1), int64(1), object(15)\n",
      "memory usage: 7.3+ MB\n",
      "None\n",
      "\n",
      "Information about ratings:\n",
      "<class 'pandas.core.frame.DataFrame'>\n",
      "RangeIndex: 26024289 entries, 0 to 26024288\n",
      "Data columns (total 4 columns):\n",
      " #   Column     Dtype  \n",
      "---  ------     -----  \n",
      " 0   userId     int64  \n",
      " 1   movieId    int64  \n",
      " 2   rating     float64\n",
      " 3   timestamp  int64  \n",
      "dtypes: float64(1), int64(3)\n",
      "memory usage: 794.2 MB\n",
      "None\n",
      "\n"
     ]
    }
   ],
   "source": [
    "# Print information about the DataFrames\n",
    "print(\"Information about movies:\")\n",
    "print(df.info())\n",
    "print()\n",
    "print(\"Information about ratings:\")\n",
    "print(ratings.info())\n",
    "print()"
   ]
  },
  {
   "cell_type": "markdown",
   "id": "a7af0b70-dc19-47fe-b62b-177ab9e0ed4b",
   "metadata": {},
   "source": [
    "The two DataFrames are then merged based on the **movieId** column, and only the necessary columns are selected using the **merge()** and indexing operations:"
   ]
  },
  {
   "cell_type": "code",
   "execution_count": 60,
   "id": "4978a4f3-6ab4-4679-a102-a3e8c8ae437b",
   "metadata": {},
   "outputs": [],
   "source": [
    "# Merge the two DataFrames\n",
    "merged_df = pd.merge(ratings, df, left_on='movieId', right_on='id')"
   ]
  },
  {
   "cell_type": "code",
   "execution_count": 61,
   "id": "21722bfe-52fa-41b8-a452-e67ec775042a",
   "metadata": {},
   "outputs": [],
   "source": [
    "# Select the columns needed\n",
    "useful_cols = ['userId', 'movieId', 'rating', 'original_title', 'genres']\n",
    "df = merged_df[useful_cols]"
   ]
  },
  {
   "cell_type": "code",
   "execution_count": 62,
   "id": "2c1dc7bf-cab3-40b4-a09a-6b792efd7523",
   "metadata": {},
   "outputs": [
    {
     "name": "stdout",
     "output_type": "stream",
     "text": [
      "<class 'pandas.core.frame.DataFrame'>\n",
      "RangeIndex: 10969295 entries, 0 to 10969294\n",
      "Data columns (total 5 columns):\n",
      " #   Column          Dtype  \n",
      "---  ------          -----  \n",
      " 0   userId          int64  \n",
      " 1   movieId         int64  \n",
      " 2   rating          float64\n",
      " 3   original_title  object \n",
      " 4   genres          object \n",
      "dtypes: float64(1), int64(2), object(2)\n",
      "memory usage: 418.4+ MB\n"
     ]
    }
   ],
   "source": [
    "# Print information about the DataFrames after cleaning\n",
    "df.info()"
   ]
  },
  {
   "cell_type": "markdown",
   "id": "b5183873-d888-4d98-9488-ee5bf2578a49",
   "metadata": {},
   "source": [
    "The merged DataFrame is split into training and test sets using the **train_test_split()** function from scikit-learn:"
   ]
  },
  {
   "cell_type": "code",
   "execution_count": 63,
   "id": "82f0e5a0-e879-40cc-a0c8-4a0e0712e490",
   "metadata": {},
   "outputs": [],
   "source": [
    "# Create a list of all unique users\n",
    "user_ids = df['userId'].unique()"
   ]
  },
  {
   "cell_type": "code",
   "execution_count": 64,
   "id": "40f3cdbc-6e29-4f63-bd5d-6ac46a4bed94",
   "metadata": {},
   "outputs": [],
   "source": [
    "# Split user IDs into training and test sets\n",
    "train_ids, test_ids = train_test_split(user_ids, test_size=0.2, random_state=42)"
   ]
  },
  {
   "cell_type": "code",
   "execution_count": 65,
   "id": "ed65b3ab-4aa6-49fb-b772-548b380cdd29",
   "metadata": {},
   "outputs": [],
   "source": [
    "# Create training and test sets\n",
    "train = df[df['userId'].isin(train_ids)]\n",
    "test = df[df['userId'].isin(test_ids)]"
   ]
  },
  {
   "cell_type": "code",
   "execution_count": 66,
   "id": "ef0bcf7c-f765-403f-b09b-72a618c06ebe",
   "metadata": {},
   "outputs": [
    {
     "name": "stdout",
     "output_type": "stream",
     "text": [
      "Training data: 8805810\n",
      "Test data: 2163485\n"
     ]
    }
   ],
   "source": [
    "print(f'Training data: {len(train)}')\n",
    "print(f'Test data: {len(test)}')"
   ]
  },
  {
   "cell_type": "markdown",
   "id": "58b3f880-cf63-40c7-95e5-ec379e87eb99",
   "metadata": {},
   "source": [
    "The training and test DataFrames are then converted into TensorFlow Datasets using **tf.data.Dataset.from_tensor_slices()**:"
   ]
  },
  {
   "cell_type": "code",
   "execution_count": 67,
   "id": "028e076a-0c25-4a12-8a88-3b674fd6e8c9",
   "metadata": {},
   "outputs": [],
   "source": [
    "# Convert the training and test DataFrames into TensorFlow Datasets\n",
    "train = tf.data.Dataset.from_tensor_slices(({'userId': train['userId'].values, 'movieId': train['movieId'].values, 'rating': train['rating'].values}))\n",
    "test = tf.data.Dataset.from_tensor_slices(({'userId': test['userId'].values, 'movieId': test['movieId'].values, 'rating': test['rating'].values}))"
   ]
  },
  {
   "cell_type": "code",
   "execution_count": 68,
   "id": "379361c8-5d04-4e97-a8fa-a14782cdc0db",
   "metadata": {},
   "outputs": [],
   "source": [
    "# Apply batching and shuffling to the Datasets\n",
    "train = train.shuffle(200_000).batch(2048)\n",
    "test = test.batch(1024)"
   ]
  },
  {
   "cell_type": "markdown",
   "id": "05f7b92c-d344-4f08-b36a-a68a30b1565d",
   "metadata": {},
   "source": [
    "### Model Definition\n",
    "The collaborative filtering model is defined using TensorFlow Keras. It consists of embedding layers for users and movies, followed by a series of dense layers for predicting ratings:"
   ]
  },
  {
   "cell_type": "code",
   "execution_count": 69,
   "id": "0807e492-6bc7-48cb-a569-f120396ff2cd",
   "metadata": {},
   "outputs": [],
   "source": [
    "class RankingModel(tf.keras.Model):\n",
    "    \"\"\"Model for ranking movie recommendations based on user and movie embeddings.\"\"\"\n",
    "\n",
    "    def __init__(self, num_users, num_movies):\n",
    "        \"\"\"\n",
    "        Initialize the RankingModel.\n",
    "\n",
    "        Args:\n",
    "            num_users (int): Number of unique users.\n",
    "            num_movies (int): Number of unique movies.\n",
    "        \"\"\"\n",
    "        super().__init__()\n",
    "        embedding_dimension = 256\n",
    "\n",
    "        # Compute embeddings for users.\n",
    "        self.user_embeddings = tf.keras.Sequential([\n",
    "            tf.keras.layers.Embedding(num_users, embedding_dimension)\n",
    "        ])\n",
    "\n",
    "        # Compute embeddings for movies.\n",
    "        self.movie_embeddings = tf.keras.Sequential([\n",
    "            tf.keras.layers.Embedding(num_movies, embedding_dimension)\n",
    "        ])\n",
    "\n",
    "        # Compute predictions.\n",
    "        self.ratings = tf.keras.Sequential([\n",
    "            tf.keras.layers.Dense(512, activation=\"relu\"),\n",
    "            tf.keras.layers.Dense(256, activation=\"relu\"),\n",
    "            tf.keras.layers.Dense(1)\n",
    "        ])\n",
    "\n",
    "    def call(self, inputs):\n",
    "        \"\"\"\n",
    "        Compute the rankings based on user and movie embeddings.\n",
    "\n",
    "        Args:\n",
    "            inputs (tuple): Tuple containing user ID and movie ID.\n",
    "\n",
    "        Returns:\n",
    "            tf.Tensor: Predicted rankings.\n",
    "\n",
    "        \"\"\"\n",
    "        user_id, movie_id = inputs\n",
    "        user_embedding = self.user_embeddings(user_id)\n",
    "        movie_embedding = self.movie_embeddings(movie_id)\n",
    "        return self.ratings(tf.concat([user_embedding, movie_embedding], axis=1))"
   ]
  },
  {
   "cell_type": "markdown",
   "id": "4e7cd022-de88-4a80-8fe7-2f19028d8290",
   "metadata": {},
   "source": [
    "### Model Compilation and Training\n",
    "The model is instantiated by passing the number of users and movies as arguments. The ranking task is defined using **TFRS Ranking class** with mean squared error (MSE) loss and root mean squared error (RMSE) metric:"
   ]
  },
  {
   "cell_type": "code",
   "execution_count": 70,
   "id": "d3e36c50-2366-4067-ad00-c7ab572245ae",
   "metadata": {},
   "outputs": [],
   "source": [
    "# Create the model\n",
    "ranking_model = RankingModel(num_users=max(df['userId'])+1, num_movies=max(df['movieId'])+1)\n",
    "\n",
    "task = tfrs.tasks.Ranking(\n",
    "  loss=tf.keras.losses.MeanSquaredError(),\n",
    "  metrics=[tf.keras.metrics.RootMeanSquaredError()]\n",
    ")"
   ]
  },
  {
   "cell_type": "markdown",
   "id": "2346f76e-83d7-41ca-9d54-9371c5d02d73",
   "metadata": {},
   "source": [
    "The **MovielensModel class** is created to encapsulate the ranking model and the ranking task:"
   ]
  },
  {
   "cell_type": "code",
   "execution_count": 71,
   "id": "fec0661e-dbf1-4822-9779-9809324d2754",
   "metadata": {},
   "outputs": [],
   "source": [
    "class MovielensModel(tfrs.models.Model):\n",
    "    \"\"\"\n",
    "    Model for the MovieLens recommendation system.\n",
    "\n",
    "    Args:\n",
    "        ranking_model (tf.keras.Model): The ranking model to be used for making predictions.\n",
    "        task (tfrs.tasks.Ranking): The ranking task specifying the loss function and metrics.\n",
    "\n",
    "    Attributes:\n",
    "        ranking_model (tf.keras.Model): The ranking model for making predictions.\n",
    "        task (tfrs.tasks.Ranking): The ranking task for training and evaluation.\n",
    "\n",
    "    \"\"\"\n",
    "\n",
    "    def __init__(self, ranking_model, task):\n",
    "        super().__init__()\n",
    "        self.ranking_model = ranking_model\n",
    "        self.task = task\n",
    "\n",
    "    def call(self, features):\n",
    "        \"\"\"\n",
    "        Perform forward pass on the model.\n",
    "\n",
    "        Args:\n",
    "            features (dict): Dictionary containing input features.\n",
    "\n",
    "        Returns:\n",
    "            tf.Tensor: Predicted movie rankings.\n",
    "\n",
    "        Raises:\n",
    "            ValueError: If 'userId' or 'movieId' is missing in the input dictionary.\n",
    "\n",
    "        \"\"\"\n",
    "        print(features)  # Add this line for debugging\n",
    "        user_id = features.get('userId')\n",
    "        movie_id = features.get('movieId')\n",
    "        if user_id is None or movie_id is None:\n",
    "            raise ValueError('userId and movieId must be in the input dictionary')\n",
    "        return self.ranking_model((user_id, movie_id))\n",
    "\n",
    "    def compute_loss(self, features, training=False):\n",
    "        \"\"\"\n",
    "        Compute the loss for training the model.\n",
    "\n",
    "        Args:\n",
    "            features (dict): Dictionary containing input features.\n",
    "            training (bool): Whether the model is in training mode or not.\n",
    "\n",
    "        Returns:\n",
    "            tf.Tensor: Computed loss value.\n",
    "\n",
    "        Raises:\n",
    "            ValueError: If 'rating' is missing in the input dictionary.\n",
    "\n",
    "        \"\"\"\n",
    "        labels = features.pop('rating')\n",
    "        if labels is None:\n",
    "            raise ValueError('rating must be in the input dictionary')\n",
    "        rating_predictions = self(features)\n",
    "        return self.task(labels=labels, predictions=rating_predictions)"
   ]
  },
  {
   "cell_type": "markdown",
   "id": "30888098-88ff-4c8e-8567-26e42b5b1808",
   "metadata": {},
   "source": [
    "The model is compiled and trained on the training dataset."
   ]
  },
  {
   "cell_type": "code",
   "execution_count": 72,
   "id": "50a9c658-3ac2-46b5-968a-06851d492653",
   "metadata": {},
   "outputs": [
    {
     "name": "stdout",
     "output_type": "stream",
     "text": [
      "Epoch 1/10\n",
      "{'userId': <tf.Tensor 'IteratorGetNext:2' shape=(None,) dtype=int64>, 'movieId': <tf.Tensor 'IteratorGetNext:0' shape=(None,) dtype=int64>}\n",
      "{'userId': <tf.Tensor 'IteratorGetNext:2' shape=(None,) dtype=int64>, 'movieId': <tf.Tensor 'IteratorGetNext:0' shape=(None,) dtype=int64>}\n",
      "4300/4300 [==============================] - 89s 20ms/step - root_mean_squared_error: 475.4483 - loss: 225983.8354 - regularization_loss: 0.0000e+00 - total_loss: 225983.8354\n",
      "Epoch 2/10\n",
      "4300/4300 [==============================] - 85s 20ms/step - root_mean_squared_error: 13.2500 - loss: 175.5666 - regularization_loss: 0.0000e+00 - total_loss: 175.5666\n",
      "Epoch 3/10\n",
      "4300/4300 [==============================] - 83s 19ms/step - root_mean_squared_error: 8.4824 - loss: 72.0173 - regularization_loss: 0.0000e+00 - total_loss: 72.0173\n",
      "Epoch 4/10\n",
      "4300/4300 [==============================] - 83s 19ms/step - root_mean_squared_error: 6.7866 - loss: 46.1060 - regularization_loss: 0.0000e+00 - total_loss: 46.1060\n",
      "Epoch 5/10\n",
      "4300/4300 [==============================] - 84s 19ms/step - root_mean_squared_error: 5.6733 - loss: 32.2159 - regularization_loss: 0.0000e+00 - total_loss: 32.2159\n",
      "Epoch 6/10\n",
      "4300/4300 [==============================] - 85s 20ms/step - root_mean_squared_error: 6.9246 - loss: 47.9519 - regularization_loss: 0.0000e+00 - total_loss: 47.9519\n",
      "Epoch 7/10\n",
      "4300/4300 [==============================] - 89s 21ms/step - root_mean_squared_error: 4.3418 - loss: 18.8637 - regularization_loss: 0.0000e+00 - total_loss: 18.8637\n",
      "Epoch 8/10\n",
      "4300/4300 [==============================] - 93s 21ms/step - root_mean_squared_error: 3.9143 - loss: 15.3254 - regularization_loss: 0.0000e+00 - total_loss: 15.3254\n",
      "Epoch 9/10\n",
      "4300/4300 [==============================] - 86s 20ms/step - root_mean_squared_error: 3.7201 - loss: 13.8563 - regularization_loss: 0.0000e+00 - total_loss: 13.8563\n",
      "Epoch 10/10\n",
      "4300/4300 [==============================] - 86s 20ms/step - root_mean_squared_error: 3.4226 - loss: 11.7183 - regularization_loss: 0.0000e+00 - total_loss: 11.7183\n"
     ]
    },
    {
     "data": {
      "text/plain": [
       "<keras.callbacks.History at 0xfffede252bd0>"
      ]
     },
     "execution_count": 72,
     "metadata": {},
     "output_type": "execute_result"
    }
   ],
   "source": [
    "# Create an instance of the MovielensModel\n",
    "model = MovielensModel(ranking_model, task)\n",
    "\n",
    "# Compile the model with the Adagrad optimizer and a learning rate of 0.1\n",
    "model.compile(optimizer=tf.keras.optimizers.Adagrad(learning_rate=0.5))\n",
    "\n",
    "# Train the model on the training dataset for 10 epochs\n",
    "model.fit(train, epochs=10)"
   ]
  },
  {
   "cell_type": "markdown",
   "id": "0a46eb64-dbc4-4286-bde6-736a4c1d8a9c",
   "metadata": {},
   "source": [
    "### Model Evaluation and Recommendation\n",
    "The trained model is evaluated on the test dataset:"
   ]
  },
  {
   "cell_type": "code",
   "execution_count": 73,
   "id": "b52d4750-0fc0-4a2f-a8c7-7767aca96570",
   "metadata": {},
   "outputs": [
    {
     "name": "stdout",
     "output_type": "stream",
     "text": [
      "{'userId': <tf.Tensor 'IteratorGetNext:2' shape=(None,) dtype=int64>, 'movieId': <tf.Tensor 'IteratorGetNext:0' shape=(None,) dtype=int64>}\n",
      "2113/2113 [==============================] - 8s 4ms/step - root_mean_squared_error: 3.2344 - loss: 10.5740 - regularization_loss: 0.0000e+00 - total_loss: 10.5740\n"
     ]
    }
   ],
   "source": [
    "# Evaluate the model on the test dataset\n",
    "evaluation_results = model.evaluate(test, return_dict=True)"
   ]
  },
  {
   "cell_type": "markdown",
   "id": "544c3f65-9243-4e65-a7db-c139c68a48fc",
   "metadata": {},
   "source": [
    "Finally, a **recommend_movies()** function is defined to generate movie recommendations for a given **user ID**. The function takes the trained model, a user ID, and the number of recommendations to generate as inputs and returns the titles of the recommended movies."
   ]
  },
  {
   "cell_type": "code",
   "execution_count": 88,
   "id": "27d50ea5-1d11-4f75-a70d-e7d90b3cef8e",
   "metadata": {},
   "outputs": [],
   "source": [
    "def recommend_movies(model, user_id, num_recommendations):\n",
    "    \"\"\"\n",
    "    Generate movie recommendations for a given user.\n",
    "\n",
    "    Parameters:\n",
    "        model (MovielensModel): The trained model used for making predictions.\n",
    "        user_id (int): The ID of the user for whom recommendations are generated.\n",
    "        num_recommendations (int): The number of movie recommendations to return.\n",
    "\n",
    "    Returns:\n",
    "        pd.DataFrame: A DataFrame containing the movie recommendations with title and genre.\n",
    "    \"\"\"\n",
    "    # Create a list of all movie IDs\n",
    "    movie_ids = df['movieId'].unique()\n",
    "\n",
    "    # Create a dataset with the user ID and each movie ID\n",
    "    data = tf.data.Dataset.from_tensor_slices(({'userId': [user_id]*len(movie_ids), 'movieId': movie_ids}))\n",
    "\n",
    "    # Make rating predictions\n",
    "    predictions = model.predict(data.batch(4096))\n",
    "\n",
    "    # Get the indices of the movies with the highest predictions\n",
    "    top_indices = np.argsort(predictions.squeeze())[::-1][:num_recommendations]\n",
    "\n",
    "    # Get the movie IDs and titles of the recommended movies\n",
    "    top_movie_ids = movie_ids[top_indices]\n",
    "    top_movies = df[df['movieId'].isin(top_movie_ids)][['original_title', 'genres']]\n",
    "\n",
    "    # Group the recommendations by title and genre\n",
    "    top_movies = top_movies.groupby(['original_title', 'genres']).size().reset_index(name='count')\n",
    "\n",
    "    # Remove the 'count' column from the DataFrame\n",
    "    top_movies = top_movies.drop('count', axis=1)\n",
    "\n",
    "    return top_movies"
   ]
  },
  {
   "cell_type": "markdown",
   "id": "0c28a0df-85c1-4799-8b5c-1773ea0f208d",
   "metadata": {},
   "source": [
    "### Example Usage"
   ]
  },
  {
   "cell_type": "code",
   "execution_count": 89,
   "id": "1bb19421-c15d-41bd-b4ad-8fa8c449f71d",
   "metadata": {},
   "outputs": [
    {
     "name": "stdout",
     "output_type": "stream",
     "text": [
      "2/2 [==============================] - 0s 15ms/step\n",
      "                          original_title                  genres\n",
      "0  American Pie Presents: The Naked Mile                  Comedy\n",
      "1                            Baby Snakes                        \n",
      "2                                Il Boom                  Comedy\n",
      "3                   Little Miss Sunshine           Comedy, Drama\n",
      "4                         Quality Street  Comedy, Romance, Drama\n",
      "5                            Raggedy Man                   Drama\n",
      "6                    Saving Private Ryan     Drama, History, War\n",
      "7                             Stunt Rock    Action, Drama, Music\n",
      "8                       The Great Caruso            Drama, Music\n",
      "9              They All Kissed the Bride         Comedy, Romance\n"
     ]
    }
   ],
   "source": [
    "# Print movie recommendations for user ID 1\n",
    "print(recommend_movies(model, user_id=1, num_recommendations=10))"
   ]
  },
  {
   "cell_type": "code",
   "execution_count": 93,
   "id": "ae9db634-ed26-48ce-a3e1-e84c559cbcfc",
   "metadata": {},
   "outputs": [
    {
     "name": "stdout",
     "output_type": "stream",
     "text": [
      "2/2 [==============================] - 0s 19ms/step\n",
      "                    original_title                           genres\n",
      "0                      Afterschool                   Drama, Mystery\n",
      "1               How They Get There                  Romance, Comedy\n",
      "2                     Jules et Jim                   Drama, Romance\n",
      "3            Mr. Peabody & Sherman     Animation, Adventure, Family\n",
      "4                      Rush Hour 3  Action, Comedy, Crime, Thriller\n",
      "5              Saving Private Ryan              Drama, History, War\n",
      "6      The Flight That Disappeared        Science Fiction, Thriller\n",
      "7  Who's Afraid of Virginia Woolf?                            Drama\n",
      "8                            Шпион                 Action, Thriller\n",
      "9                      九品芝麻官之白面包靑天                           Comedy\n"
     ]
    }
   ],
   "source": [
    "# Print movie recommendations for user ID 219\n",
    "print(recommend_movies(model, user_id=219, num_recommendations=10))"
   ]
  },
  {
   "cell_type": "code",
   "execution_count": null,
   "id": "74f53b5f-2989-49d5-add7-3cb082164b1f",
   "metadata": {},
   "outputs": [],
   "source": []
  }
 ],
 "metadata": {
  "kernelspec": {
   "display_name": "Python 3 (ipykernel)",
   "language": "python",
   "name": "python3"
  },
  "language_info": {
   "codemirror_mode": {
    "name": "ipython",
    "version": 3
   },
   "file_extension": ".py",
   "mimetype": "text/x-python",
   "name": "python",
   "nbconvert_exporter": "python",
   "pygments_lexer": "ipython3",
   "version": "3.11.3"
  }
 },
 "nbformat": 4,
 "nbformat_minor": 5
}
